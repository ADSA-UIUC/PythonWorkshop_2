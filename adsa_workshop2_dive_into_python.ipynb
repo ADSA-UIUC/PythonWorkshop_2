{
 "cells": [
  {
   "cell_type": "markdown",
   "metadata": {},
   "source": [
    "![ADSA Logo](http://i.imgur.com/BV0CdHZ.png?2 \"ADSA Logo\")"
   ]
  },
  {
   "cell_type": "markdown",
   "metadata": {},
   "source": [
    "# ADSA Workshop 2 - Diving Deeper into Python\n",
    "> Workshop content adapted from\n",
    "* https://github.com/ehmatthes/intro_programming/\n",
    "* http://nbviewer.ipython.org/github/rasbt/python_reference/blob/master/tutorials/sorting_csvs.ipynb\n",
    "\n",
    "***"
   ]
  },
  {
   "cell_type": "markdown",
   "metadata": {},
   "source": [
    "This code imports the testing library and modifies the print command to work as a regular Python function"
   ]
  },
  {
   "cell_type": "code",
   "execution_count": null,
   "metadata": {
    "collapsed": true
   },
   "outputs": [],
   "source": [
    "from test_helper import Test\n",
    "from __future__ import print_function"
   ]
  },
  {
   "cell_type": "markdown",
   "metadata": {},
   "source": [
    "## Refresher of Workshop 1"
   ]
  },
  {
   "cell_type": "markdown",
   "metadata": {},
   "source": [
    "In the first workshop (accessible here: https://github.com/ADSA-UIUC/PythonWorkshop_1/), we learned the following topics:"
   ]
  },
  {
   "cell_type": "markdown",
   "metadata": {},
   "source": [
    "### Comments"
   ]
  },
  {
   "cell_type": "code",
   "execution_count": null,
   "metadata": {
    "collapsed": false
   },
   "outputs": [],
   "source": [
    "# Any line that starts with a '#' is a comment.\n",
    "# print('This line is a comment, so it gets executed.')\n",
    "\n",
    "print('This line is not a comment, so it gets executed.')"
   ]
  },
  {
   "cell_type": "markdown",
   "metadata": {},
   "source": [
    "### Variables: Strings and Numbers"
   ]
  },
  {
   "cell_type": "code",
   "execution_count": null,
   "metadata": {
    "collapsed": false
   },
   "outputs": [],
   "source": [
    "# declare a string\n",
    "my_str = 'Strings are enclosed by single- or double-quotes.'\n",
    "\n",
    "# declare some integers\n",
    "a = 7\n",
    "b = 2.3\n",
    "c = a * b\n",
    "d = a + c\n",
    "\n",
    "# operations on numbers\n",
    "print('c is equal to {0}, d is equal to {1}'.format(c, d))"
   ]
  },
  {
   "cell_type": "markdown",
   "metadata": {},
   "source": [
    "### If-else Conditionals"
   ]
  },
  {
   "cell_type": "code",
   "execution_count": null,
   "metadata": {
    "collapsed": false
   },
   "outputs": [],
   "source": [
    "if 35 >= 17:\n",
    "    print(\"Condition is True\")\n",
    "else:\n",
    "    print(\"Condition is False\")\n",
    "print(\"Condition is True or False, either way this is outputted\")"
   ]
  },
  {
   "cell_type": "markdown",
   "metadata": {},
   "source": [
    "### Lists and Loops"
   ]
  },
  {
   "cell_type": "code",
   "execution_count": null,
   "metadata": {
    "collapsed": false
   },
   "outputs": [],
   "source": [
    "awesome_people = [\"Eric Idle\", \"John Cleese\", \"Albert Fry\"]\n",
    "print(awesome_people)"
   ]
  },
  {
   "cell_type": "code",
   "execution_count": null,
   "metadata": {
    "collapsed": false
   },
   "outputs": [],
   "source": [
    "for number in range(0, 5):\n",
    "    print(\"I am on iteration {0}!\".format(number))"
   ]
  },
  {
   "cell_type": "markdown",
   "metadata": {},
   "source": [
    "***\n",
    "## Functions"
   ]
  },
  {
   "cell_type": "markdown",
   "metadata": {},
   "source": [
    "Functions are a set of actions that we group together, and give a name to. We can define our own functions, which allows us to \"teach\" Python new behavior.\n",
    "\n",
    "Here is the general syntax for defining and calling functions.\n",
    "\n",
    "    # Let's define a function.\n",
    "    def function_name(argument_1, argument_2):\n",
    "        # Do whatever we want this function to do,\n",
    "        #  using argument_1 and argument_2\n",
    "\n",
    "    # Use function_name to call the function.\n",
    "    function_name(value_1, value_2)"
   ]
  },
  {
   "cell_type": "markdown",
   "metadata": {},
   "source": [
    "* __Defining a function__\n",
    "    * The keyword `def` tells Python that you are about to define a function.\n",
    "    * Functions have a name. A variable name tells you what kind of value the variable contains; a function name should tell you what the function does.\n",
    "    * The values inside parentheses are called __arguments__ or __parameters__. Functions use parameters to get data it may need to execute.\n",
    "        * These are basically variable names, but they are only used in the function.\n",
    "        * They can be different names than what you use in the rest of your program.\n",
    "    * Make sure the function definition line ends with a colon.\n",
    "* __Using your function__\n",
    "    * To call your function, write its name followed by parentheses.\n",
    "    * Inside the parentheses, provide the values for the function's parameters.\n",
    "    * These can be values can be other variables you have defined or literal values."
   ]
  },
  {
   "cell_type": "code",
   "execution_count": null,
   "metadata": {
    "collapsed": false
   },
   "outputs": [],
   "source": [
    "# This function prints a two-line personalized thank you message.\n",
    "def thank_you(name):\n",
    "    # print() is also a function!\n",
    "    # It prints the string you give it onto the screen.\n",
    "    \n",
    "    print(\"You are doing good work, %s!\" % name)\n",
    "    print(\"Thank you very much for your efforts on this project.\\n\")\n",
    "    \n",
    "thank_you('Adriana')\n",
    "thank_you('Billy')\n",
    "thank_you('Caroline')"
   ]
  },
  {
   "cell_type": "code",
   "execution_count": null,
   "metadata": {
    "collapsed": false
   },
   "outputs": [],
   "source": [
    "students = ['Bernice', 'Aaron', 'Cody']\n",
    "\n",
    "# Use the sort function to put students in alphabetical order.\n",
    "students.sort()\n",
    "\n",
    "# Display the list in its current order.\n",
    "print(\"Students in alphabetical order.\")\n",
    "for student in students:\n",
    "    print(student.title())\n",
    "\n",
    "# Give the sort function the reverse parameter\n",
    "# This puts students in reverse alphabetical order.\n",
    "students.sort(reverse=True)\n",
    "\n",
    "# Display the list in its current order.\n",
    "print(\"\\nStudents in reverse alphabetical order.\")\n",
    "for student in students:\n",
    "    print(student.title())"
   ]
  },
  {
   "cell_type": "markdown",
   "metadata": {},
   "source": [
    "### Advantages of using functions\n",
    "You might be able to see some advantages of using functions:\n",
    "* We can write a set of instructions once and use it as many times as we want without retyping it.\n",
    "* When our function works, we don't have to worry about that code anymore. Every time you repeat code in your program, you introduce an opportunity to make a mistake. Writing code in functions means the any possible errors are localized. And when those bugs are fixed, we can be confident that the function will continue to work correctly.\n",
    "* We can modify our function's behavior once, and that change takes effect every time the function is called. This is much better than deciding we need some new behavior, and then having to change code in many different places in our program."
   ]
  },
  {
   "cell_type": "markdown",
   "metadata": {},
   "source": [
    "### Returning Values from Functions"
   ]
  },
  {
   "cell_type": "markdown",
   "metadata": {},
   "source": [
    "Each function you create can return a value. This can be in addition to the primary work the function does, or it can be the function's main job. The following function takes in a number, and returns the corresponding word for that number:"
   ]
  },
  {
   "cell_type": "code",
   "execution_count": null,
   "metadata": {
    "collapsed": false
   },
   "outputs": [],
   "source": [
    "def get_number_word(number):\n",
    "    # Takes in a numerical value, and returns the word corresponding to that number.\n",
    "    if number == 1:\n",
    "        return 'one'\n",
    "    elif number == 2:\n",
    "        return 'two'\n",
    "    elif number == 3:\n",
    "        return 'three'\n",
    "    \n",
    "# Let's try out our function.\n",
    "for number in range(0, 4):\n",
    "    number_word = get_number_word(number)\n",
    "    print(number, number_word)"
   ]
  },
  {
   "cell_type": "code",
   "execution_count": null,
   "metadata": {
    "collapsed": false
   },
   "outputs": [],
   "source": [
    "def add_five(number):\n",
    "    print(\"Adding 5 to\", number, \"now...\")\n",
    "    return number + 5\n",
    "    print(\"This will not get printed\")\n",
    "    \n",
    "num = add_five(10)\n",
    "print(\"New number is:\", num)"
   ]
  },
  {
   "cell_type": "markdown",
   "metadata": {},
   "source": [
    "***\n",
    "## Dictionaries"
   ]
  },
  {
   "cell_type": "markdown",
   "metadata": {},
   "source": [
    "Dictionaries allow us to store connected bits of information. For example, you might store a person's name and age together. They store information in key-value pairs, so that any one piece of information in a dictionary is connected to at least one other piece of information.\n",
    "\n",
    "The general syntax of how dictionaries are declared are:\n",
    "\n",
    "`dictionary_name = {key_1: value_1, key_2: value_2, key_3: value_3}`"
   ]
  },
  {
   "cell_type": "markdown",
   "metadata": {},
   "source": [
    "### Adding and Accessing Key-Value Pairs"
   ]
  },
  {
   "cell_type": "code",
   "execution_count": null,
   "metadata": {
    "collapsed": false
   },
   "outputs": [],
   "source": [
    "# Create an empty dictionary.\n",
    "pets = {}\n",
    "\n",
    "# Fill the dictionary, pair by pair.\n",
    "pets['Willie'] ='dog'\n",
    "pets['Schroedinger'] = 'cat'\n",
    "pets['Zinga'] = 'hamster'\n",
    "\n",
    "# Print out the items in the dictionary.\n",
    "for name, animal in pets.items():\n",
    "    print(name, \"is a\", animal)"
   ]
  },
  {
   "cell_type": "markdown",
   "metadata": {},
   "source": [
    "Removing key-value pairs from a dictionary is done using the `del` keyword:"
   ]
  },
  {
   "cell_type": "code",
   "execution_count": null,
   "metadata": {
    "collapsed": false
   },
   "outputs": [],
   "source": [
    "# Remove the word 'list' and its meaning.\n",
    "del pets['Zinga']\n",
    "\n",
    "print(pets)"
   ]
  },
  {
   "cell_type": "markdown",
   "metadata": {},
   "source": [
    "***\n",
    "## A Look at the Python Standard Library"
   ]
  },
  {
   "cell_type": "markdown",
   "metadata": {},
   "source": [
    "Python comes \"batteries loaded\". This means that Python comes with a lot of prewritten code that is called the standard library. This library is very extensive, and offers a lot of modules and classes to accomplish a wide range of tasks.\n",
    "\n",
    "All of the modules in Python 2.7's Standard Library are listed in the official documentation at https://docs.python.org/2/library/index.html. To use any of these modules, you need to import them or the specific functions in them:\n",
    "\n",
    "    import math\n",
    "    from math import factorial, log\n",
    "\n",
    "Now we are going to look at some functions in the String and Regex modules."
   ]
  },
  {
   "cell_type": "markdown",
   "metadata": {},
   "source": [
    "### Strings and Math"
   ]
  },
  {
   "cell_type": "markdown",
   "metadata": {},
   "source": [
    "The `string` module is imported by default, so all string functions are always accessible. The availble string functions are listed here: https://docs.python.org/2/library/stdtypes.html#string-methods."
   ]
  },
  {
   "cell_type": "code",
   "execution_count": null,
   "metadata": {
    "collapsed": false
   },
   "outputs": [],
   "source": [
    "str = 'Hi! My name is Python!'\n",
    "\n",
    "# convert the string to uppercase letters\n",
    "print(str.upper())\n",
    "\n",
    "# convert all lowercase letters to uppercase and vice versa\n",
    "print(str.swapcase())\n",
    "\n",
    "print( \"83\".isdigit() )"
   ]
  },
  {
   "cell_type": "code",
   "execution_count": null,
   "metadata": {
    "collapsed": false
   },
   "outputs": [],
   "source": [
    "import math\n",
    "\n",
    "mynum = 14\n",
    "print(math.sqrt(mynum))\n",
    "\n",
    "# math.pi is a constant in the math module\n",
    "print( math.sin(math.pi) ) # should be almost 0"
   ]
  },
  {
   "cell_type": "markdown",
   "metadata": {},
   "source": [
    "### Parsing CSV Files"
   ]
  },
  {
   "cell_type": "markdown",
   "metadata": {},
   "source": [
    "The CSV (Comma Separated Values) format is the most common import and export format for spreadsheets and databases. Although there is no standard for how the data is formatted, the generally followed format is like so:\n",
    "\n",
    "    column1_title, column2_title, column3_title\n",
    "    row1_data1, row1_data2, row1_data3\n",
    "    row2_data1, row2_data2, row2_data3\n",
    "    row3_data1, row3_data2, row3_data3\n",
    "\n",
    "While the delimiters and quoting characters vary, the overall format is similar enough for easy parsing using the `csv` module."
   ]
  },
  {
   "cell_type": "code",
   "execution_count": null,
   "metadata": {
    "collapsed": false
   },
   "outputs": [],
   "source": [
    "import csv\n",
    "\n",
    "csv_file = 'data/test.csv'\n",
    "test_csv = None\n",
    "\n",
    "with open(csv_file, 'r') as csv_con:\n",
    "    reader = csv.reader(csv_con, delimiter=',')\n",
    "    test_csv = list(reader)\n",
    "\n",
    "print('first 3 rows:')\n",
    "for row in range(3):\n",
    "    print(test_csv[row])"
   ]
  },
  {
   "cell_type": "markdown",
   "metadata": {},
   "source": [
    "### Accessing the web using `urllib2`"
   ]
  },
  {
   "cell_type": "markdown",
   "metadata": {},
   "source": []
  },
  {
   "cell_type": "markdown",
   "metadata": {},
   "source": [
    "***\n",
    "## Getting into Data Science using NumPy"
   ]
  },
  {
   "cell_type": "markdown",
   "metadata": {
    "collapsed": true
   },
   "source": [
    "***\n",
    "## Using REST APIs (Weather Data)"
   ]
  },
  {
   "cell_type": "code",
   "execution_count": null,
   "metadata": {
    "collapsed": true
   },
   "outputs": [],
   "source": []
  }
 ],
 "metadata": {
  "kernelspec": {
   "display_name": "Python 2",
   "language": "python",
   "name": "python2"
  },
  "language_info": {
   "codemirror_mode": {
    "name": "ipython",
    "version": 2
   },
   "file_extension": ".py",
   "mimetype": "text/x-python",
   "name": "python",
   "nbconvert_exporter": "python",
   "pygments_lexer": "ipython2",
   "version": "2.7.6"
  }
 },
 "nbformat": 4,
 "nbformat_minor": 0
}
