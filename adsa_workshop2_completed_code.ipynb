{
 "cells": [
  {
   "cell_type": "markdown",
   "metadata": {},
   "source": [
    "![ADSA Logo](http://i.imgur.com/BV0CdHZ.png?2 \"ADSA Logo\")"
   ]
  },
  {
   "cell_type": "markdown",
   "metadata": {},
   "source": [
    "# ADSA Workshop 2 - Diving Deeper into Python\n",
    "> Workshop content adapted from\n",
    "* https://github.com/ehmatthes/intro_programming/\n",
    "* http://github.com/rasbt/python_reference/blob/master/tutorials/sorting_csvs.ipynb\n",
    "* http://www.engr.ucsb.edu/~shell/che210d/numpy.pdf"
   ]
  },
  {
   "cell_type": "markdown",
   "metadata": {},
   "source": [
    "This code imports the testing library and modifies the print command to work as a regular Python function"
   ]
  },
  {
   "cell_type": "code",
   "execution_count": 1,
   "metadata": {
    "collapsed": true
   },
   "outputs": [],
   "source": [
    "from test_helper import Test\n",
    "from __future__ import print_function"
   ]
  },
  {
   "cell_type": "markdown",
   "metadata": {},
   "source": [
    "## Refresher of Workshop 1"
   ]
  },
  {
   "cell_type": "markdown",
   "metadata": {},
   "source": [
    "In the first workshop (accessible here: https://github.com/ADSA-UIUC/PythonWorkshop_1/), we learned the following topics:"
   ]
  },
  {
   "cell_type": "markdown",
   "metadata": {},
   "source": [
    "### Comments"
   ]
  },
  {
   "cell_type": "code",
   "execution_count": 2,
   "metadata": {
    "collapsed": false
   },
   "outputs": [
    {
     "name": "stdout",
     "output_type": "stream",
     "text": [
      "This line is not a comment, so it gets executed.\n"
     ]
    }
   ],
   "source": [
    "# Any line that starts with a '#' is a comment.\n",
    "# print('This line is a comment, so it gets executed.')\n",
    "\n",
    "print('This line is not a comment, so it gets executed.')"
   ]
  },
  {
   "cell_type": "markdown",
   "metadata": {},
   "source": [
    "### Variables: Strings and Numbers"
   ]
  },
  {
   "cell_type": "code",
   "execution_count": 3,
   "metadata": {
    "collapsed": false
   },
   "outputs": [
    {
     "name": "stdout",
     "output_type": "stream",
     "text": [
      "c is equal to 16.1, d is equal to 23.1\n"
     ]
    }
   ],
   "source": [
    "# declare a string\n",
    "my_str = 'Strings are enclosed by single- or double-quotes.'\n",
    "\n",
    "# declare some integers\n",
    "a = 7\n",
    "b = 2.3\n",
    "c = a * b\n",
    "d = a + c\n",
    "\n",
    "# operations on numbers\n",
    "print('c is equal to {0}, d is equal to {1}'.format(c, d))"
   ]
  },
  {
   "cell_type": "markdown",
   "metadata": {},
   "source": [
    "### If-else Conditionals"
   ]
  },
  {
   "cell_type": "code",
   "execution_count": 4,
   "metadata": {
    "collapsed": false
   },
   "outputs": [
    {
     "name": "stdout",
     "output_type": "stream",
     "text": [
      "Condition is True\n",
      "Condition is True or False, either way this is outputted\n"
     ]
    }
   ],
   "source": [
    "if 35 >= 17:\n",
    "    print(\"Condition is True\")\n",
    "else:\n",
    "    print(\"Condition is False\")\n",
    "print(\"Condition is True or False, either way this is outputted\")"
   ]
  },
  {
   "cell_type": "markdown",
   "metadata": {},
   "source": [
    "### Lists and Loops"
   ]
  },
  {
   "cell_type": "code",
   "execution_count": 5,
   "metadata": {
    "collapsed": false
   },
   "outputs": [
    {
     "name": "stdout",
     "output_type": "stream",
     "text": [
      "['Eric Idle', 'John Cleese', 'Albert Fry']\n"
     ]
    }
   ],
   "source": [
    "awesome_people = [\"Eric Idle\", \"John Cleese\", \"Albert Fry\"]\n",
    "print(awesome_people)"
   ]
  },
  {
   "cell_type": "code",
   "execution_count": 6,
   "metadata": {
    "collapsed": false
   },
   "outputs": [
    {
     "name": "stdout",
     "output_type": "stream",
     "text": [
      "I am on iteration 0!\n",
      "I am on iteration 1!\n",
      "I am on iteration 2!\n",
      "I am on iteration 3!\n",
      "I am on iteration 4!\n"
     ]
    }
   ],
   "source": [
    "for number in range(0, 5):\n",
    "    print(\"I am on iteration {0}!\".format(number))"
   ]
  },
  {
   "cell_type": "markdown",
   "metadata": {},
   "source": [
    "***\n",
    "## Functions"
   ]
  },
  {
   "cell_type": "markdown",
   "metadata": {},
   "source": [
    "Functions are a set of actions that we group together, and give a name to. We can define our own functions, which allows us to \"teach\" Python new behavior.\n",
    "\n",
    "Here is the general syntax for defining and calling functions.\n",
    "\n",
    "    # Let's define a function.\n",
    "    def function_name(argument_1, argument_2):\n",
    "        # Do whatever we want this function to do,\n",
    "        #  using argument_1 and argument_2\n",
    "\n",
    "    # Use function_name to call the function.\n",
    "    function_name(value_1, value_2)"
   ]
  },
  {
   "cell_type": "markdown",
   "metadata": {},
   "source": [
    "* __Defining a function__\n",
    "    * The keyword `def` tells Python that you are about to define a function.\n",
    "    * Functions have a name. A variable name tells you what kind of value the variable contains; a function name should tell you what the function does.\n",
    "    * The values inside parentheses are called __arguments__ or __parameters__. Functions use parameters to get data it may need to execute.\n",
    "        * These are basically variable names, but they are only used in the function.\n",
    "        * They can be different names than what you use in the rest of your program.\n",
    "    * Make sure the function definition line ends with a colon.\n",
    "* __Using your function__\n",
    "    * To call your function, write its name followed by parentheses.\n",
    "    * Inside the parentheses, provide the values for the function's parameters.\n",
    "    * These can be values can be other variables you have defined or literal values."
   ]
  },
  {
   "cell_type": "code",
   "execution_count": 7,
   "metadata": {
    "collapsed": false
   },
   "outputs": [],
   "source": [
    "# This function prints a two-line personalized thank you message.\n",
    "def thank_you(name):\n",
    "    # print() is also a function!\n",
    "    # It prints the string you give it onto the screen.\n",
    "    \n",
    "    print('You are doing good work, {0}!'.format(name))\n",
    "    print('Thank you very much for your efforts on this project.\\n')"
   ]
  },
  {
   "cell_type": "code",
   "execution_count": 8,
   "metadata": {
    "collapsed": false
   },
   "outputs": [
    {
     "name": "stdout",
     "output_type": "stream",
     "text": [
      "You are doing good work, Adriana!\n",
      "Thank you very much for your efforts on this project.\n",
      "\n",
      "You are doing good work, Billy!\n",
      "Thank you very much for your efforts on this project.\n",
      "\n",
      "You are doing good work, Caroline!\n",
      "Thank you very much for your efforts on this project.\n",
      "\n"
     ]
    }
   ],
   "source": [
    "# now we can use the function that we just defined\n",
    "\n",
    "thank_you('Adriana')\n",
    "thank_you('Billy')\n",
    "thank_you('Caroline')"
   ]
  },
  {
   "cell_type": "code",
   "execution_count": 9,
   "metadata": {
    "collapsed": false
   },
   "outputs": [
    {
     "name": "stdout",
     "output_type": "stream",
     "text": [
      "Students in alphabetical order.\n",
      "Aaron\n",
      "Bernice\n",
      "Cody\n",
      "\n",
      "Students in reverse alphabetical order.\n",
      "Cody\n",
      "Bernice\n",
      "Aaron\n"
     ]
    }
   ],
   "source": [
    "students = ['Bernice', 'Aaron', 'Cody']\n",
    "\n",
    "# Use the sort function to put students in alphabetical order.\n",
    "students.sort()\n",
    "\n",
    "# Display the list in its current order.\n",
    "print(\"Students in alphabetical order.\")\n",
    "for student in students:\n",
    "    print(student.title())\n",
    "\n",
    "# Give the sort function the reverse parameter\n",
    "# This puts students in reverse alphabetical order.\n",
    "students.sort(reverse=True)\n",
    "\n",
    "# Display the list in reverse order.\n",
    "print(\"\\nStudents in reverse alphabetical order.\")\n",
    "for student in students:\n",
    "    print(student.title())"
   ]
  },
  {
   "cell_type": "markdown",
   "metadata": {},
   "source": [
    "### Advantages of using functions\n",
    "You might be able to see some advantages of using functions:\n",
    "* We can write a set of instructions once and use it as many times as we want without retyping it.\n",
    "* When our function works, we don't have to worry about that code anymore. Every time you repeat code in your program, you introduce an opportunity to make a mistake. Writing code in functions means the any possible errors are localized. And when those bugs are fixed, we can be confident that the function will continue to work correctly.\n",
    "* We can modify our function's behavior once, and that change takes effect every time the function is called. This is much better than deciding we need some new behavior, and then having to change code in many different places in our program."
   ]
  },
  {
   "cell_type": "markdown",
   "metadata": {},
   "source": [
    "### Returning Values from Functions"
   ]
  },
  {
   "cell_type": "markdown",
   "metadata": {},
   "source": [
    "Each function you create can return a value. This can be in addition to the primary work the function does, or it can be the function's main job. The following function takes in a number, and returns the corresponding word for that number:"
   ]
  },
  {
   "cell_type": "code",
   "execution_count": 10,
   "metadata": {
    "collapsed": false
   },
   "outputs": [
    {
     "name": "stdout",
     "output_type": "stream",
     "text": [
      "0 None\n",
      "1 one\n",
      "2 two\n",
      "3 three\n"
     ]
    }
   ],
   "source": [
    "def get_number_word(number):\n",
    "    # Takes in a numerical value, and returns the word corresponding to that number.\n",
    "    if number == 1:\n",
    "        return 'one'\n",
    "    elif number == 2:\n",
    "        return 'two'\n",
    "    elif number == 3:\n",
    "        return 'three'\n",
    "    \n",
    "# Let's try out our function.\n",
    "for number in range(0, 4):\n",
    "    number_word = get_number_word(number)\n",
    "    print(number, number_word)"
   ]
  },
  {
   "cell_type": "code",
   "execution_count": 11,
   "metadata": {
    "collapsed": false
   },
   "outputs": [
    {
     "name": "stdout",
     "output_type": "stream",
     "text": [
      "Adding 5 to 10 now...\n",
      "New number is: 15\n"
     ]
    }
   ],
   "source": [
    "def add_five(number):\n",
    "    print(\"Adding 5 to\", number, \"now...\")\n",
    "    return number + 5\n",
    "    print(\"This will not get printed\")\n",
    "    \n",
    "# Now use your function add_five()\n",
    "num = add_five(10)\n",
    "print(\"New number is:\", num)"
   ]
  },
  {
   "cell_type": "markdown",
   "metadata": {},
   "source": [
    "***\n",
    "## Dictionaries"
   ]
  },
  {
   "cell_type": "markdown",
   "metadata": {},
   "source": [
    "Dictionaries allow us to store connected bits of information. For example, you might store a person's name and age together. They store information in key-value pairs, so that any one piece of information in a dictionary is connected to at least one other piece of information.\n",
    "\n",
    "The general syntax of how dictionaries are declared are:\n",
    "\n",
    "`dictionary_name = {key_1: value_1, key_2: value_2, key_3: value_3}`"
   ]
  },
  {
   "cell_type": "markdown",
   "metadata": {},
   "source": [
    "### Adding and Accessing Key-Value Pairs"
   ]
  },
  {
   "cell_type": "code",
   "execution_count": 12,
   "metadata": {
    "collapsed": false
   },
   "outputs": [
    {
     "name": "stdout",
     "output_type": "stream",
     "text": [
      "Willie is a dog\n",
      "Schroedinger is a cat\n",
      "Zinga is a hamster\n"
     ]
    }
   ],
   "source": [
    "# Create an empty dictionary.\n",
    "pets = {}\n",
    "\n",
    "# Fill the dictionary, pair by pair.\n",
    "pets['Willie'] ='dog'\n",
    "pets['Schroedinger'] = 'cat'\n",
    "pets['Zinga'] = 'hamster'\n",
    "\n",
    "# Print out the items in the dictionary.\n",
    "for name, animal in pets.items():\n",
    "    print(name, 'is a', animal)"
   ]
  },
  {
   "cell_type": "markdown",
   "metadata": {},
   "source": [
    "Removing key-value pairs from a dictionary is done using the `del` keyword:"
   ]
  },
  {
   "cell_type": "code",
   "execution_count": 13,
   "metadata": {
    "collapsed": false
   },
   "outputs": [
    {
     "name": "stdout",
     "output_type": "stream",
     "text": [
      "{'Willie': 'dog', 'Schroedinger': 'cat'}\n"
     ]
    }
   ],
   "source": [
    "del pets['Zinga']\n",
    "\n",
    "print(pets)"
   ]
  },
  {
   "cell_type": "markdown",
   "metadata": {},
   "source": [
    "The key-value format of the dictionary data structure is actually quite accessible. Usually, data on the internet obtained from APIs follow the JSON format and their similar structure to dictionaries allows us to easily convert between JSON data and dictionaries."
   ]
  },
  {
   "cell_type": "markdown",
   "metadata": {},
   "source": [
    "***\n",
    "## A Look at the Python Standard Library"
   ]
  },
  {
   "cell_type": "markdown",
   "metadata": {},
   "source": [
    "Python comes \"batteries loaded\". This means that Python comes with a lot of prewritten code that is called the standard library. This library is very extensive, and offers a lot of modules and classes to accomplish a wide range of tasks.\n",
    "\n",
    "All of the modules in Python 2.7's Standard Library are listed in the official documentation at https://docs.python.org/2/library/index.html. To use any of these modules, you need to import them or the specific functions in them:\n",
    "\n",
    "    import math\n",
    "    from math import factorial, log\n",
    "\n",
    "Now we are going to look at some functions in the String and Regex modules."
   ]
  },
  {
   "cell_type": "markdown",
   "metadata": {},
   "source": [
    "### Strings and Math"
   ]
  },
  {
   "cell_type": "markdown",
   "metadata": {},
   "source": [
    "The `string` module is imported by default, so all string functions are always accessible. The availble string functions are listed here: https://docs.python.org/2/library/stdtypes.html#string-methods."
   ]
  },
  {
   "cell_type": "code",
   "execution_count": 14,
   "metadata": {
    "collapsed": false
   },
   "outputs": [
    {
     "name": "stdout",
     "output_type": "stream",
     "text": [
      "HI! MY NAME IS PYTHON!\n",
      "hI! mY NAME IS pYTHON!\n",
      "True\n"
     ]
    }
   ],
   "source": [
    "str = 'Hi! My name is Python!'\n",
    "\n",
    "# convert the string to uppercase letters\n",
    "print(str.upper())\n",
    "\n",
    "# convert all lowercase letters to uppercase and vice versa\n",
    "print(str.swapcase())\n",
    "\n",
    "# check if a string is a digit(s) or not\n",
    "print( \"83\".isdigit() )"
   ]
  },
  {
   "cell_type": "markdown",
   "metadata": {},
   "source": [
    "The `math` module's functions are listed here: https://docs.python.org/2/library/math.html"
   ]
  },
  {
   "cell_type": "code",
   "execution_count": 15,
   "metadata": {
    "collapsed": false
   },
   "outputs": [
    {
     "name": "stdout",
     "output_type": "stream",
     "text": [
      "3.74165738677\n",
      "1.22464679915e-16\n"
     ]
    }
   ],
   "source": [
    "import math\n",
    "\n",
    "mynum = 14\n",
    "print(math.sqrt(mynum))\n",
    "\n",
    "# math.pi is a constant in the math module\n",
    "print( math.sin(math.pi) ) # should be almost 0"
   ]
  },
  {
   "cell_type": "markdown",
   "metadata": {},
   "source": [
    "### Parsing CSV Files"
   ]
  },
  {
   "cell_type": "markdown",
   "metadata": {},
   "source": [
    "The CSV (Comma Separated Values) format is the most common import and export format for spreadsheets and databases. Although there is no standard for how the data is formatted, the generally followed format is like so:\n",
    "\n",
    "    column1_title, column2_title, column3_title\n",
    "    row1_data1, row1_data2, row1_data3\n",
    "    row2_data1, row2_data2, row2_data3\n",
    "    ...\n",
    "\n",
    "While the delimiters and quoting characters vary, the overall format is similar enough for easy parsing using the `csv` module.\n",
    "\n",
    "In the `data` folder, there is a `test.csv` file with the following contents:\n",
    "\n",
    "    name,column1,column2,column3\n",
    "    abc,1.1,4.2,1.2\n",
    "    def,2.1,1.4,5.2\n",
    "    ghi,1.5,1.2,2.1\n",
    "    jkl,1.8,1.1,4.2\n",
    "    mno,9.4,6.6,6.2\n",
    "    pqr,1.4,8.3,8.4\n",
    "    \n",
    "Let's see how to parse the file and read the first few lines."
   ]
  },
  {
   "cell_type": "code",
   "execution_count": 16,
   "metadata": {
    "collapsed": false
   },
   "outputs": [
    {
     "name": "stdout",
     "output_type": "stream",
     "text": [
      "First 3 rows:\n",
      "['name', 'column1', 'column2', 'column3']\n",
      "['abc', '1.1', '4.2', '1.2']\n",
      "['def', '2.1', '1.4', '5.2']\n"
     ]
    }
   ],
   "source": [
    "import csv\n",
    "\n",
    "# the relative path to the location of our csv file\n",
    "csv_file = 'data/test.csv'\n",
    "\n",
    "# a blank object that will store the parsed csv data\n",
    "test_csv = None\n",
    "\n",
    "# Whenever you call the open() function in Python,\n",
    "# you also need to call the close function. But since\n",
    "# a lot of people forget, the general syntax people\n",
    "# use is the \"with as\" structure.\n",
    "# In the case below, the file contents that the\n",
    "# open() function returns is stored in a temporary\n",
    "# variable called csv_con.\n",
    "with open(csv_file, 'r') as csv_con:\n",
    "    # create a reader variable to read and parse csv_con\n",
    "    reader = csv.reader(csv_con, delimiter=',')\n",
    "    # store the parsed data as a list in test_csv\n",
    "    test_csv = list(reader)\n",
    "\n",
    "print('First 3 rows:')\n",
    "for row in range(3):\n",
    "    print(test_csv[row])"
   ]
  },
  {
   "cell_type": "markdown",
   "metadata": {},
   "source": [
    "### Accessing the web using `urllib2`"
   ]
  },
  {
   "cell_type": "markdown",
   "metadata": {},
   "source": [
    "`urllib2` is a very easy-to-use module to fetch URLs (Uniform Resource Locators). You can use this module to easily read and use web content in your code.\n",
    "\n",
    "Let's start by seeing what reading the Python.org homepage through urllib2 looks like."
   ]
  },
  {
   "cell_type": "code",
   "execution_count": 17,
   "metadata": {
    "collapsed": false
   },
   "outputs": [
    {
     "name": "stdout",
     "output_type": "stream",
     "text": [
      "<!DOCTYPE HTML>\r\n",
      "<html>\r\n",
      "\t<head>\r\n",
      "\t\t<meta http-equiv=\"Content-Type\" content=\"text/html; charset=utf-8\" />\r\n",
      "\t\t<title>Home - srujun.com</title>\r\n",
      "\t\t\r\n",
      "\t\t<link rel=\"stylesheet\" type=\"text/css\" href=\"style.css\"/>\r\n",
      "\t\t\r\n",
      "\t\t<script type=\"text/javascript\">\r\n",
      "\t\t\t  var _gaq = _gaq || [];\r\n",
      "\t\t\t  _gaq.push(['_setAccount', 'UA-37746576-1']);\r\n",
      "\t\t\t  _gaq.push(['_setDomainName', 'srujun.com']);\r\n",
      "\t\t\t  _gaq.push(['_trackPageview']);\r\n",
      "\r\n",
      "\t\t\t  (function() {\r\n",
      "\t\t\t\tvar ga = document.createElement('script'); ga.type = 'text/javascript'; ga.async = true;\r\n",
      "\t\t\t\tga.src = ('https:' == document.location.protocol ? 'https://ssl' : 'http://www') + '.google-analytics.com/ga.js';\r\n",
      "\t\t\t\tvar s = document.getElementsByTagName('script')[0]; s.parentNode.insertBefore(ga, s);\r\n",
      "\t\t\t  })();\r\n",
      "\t\t</script>\r\n",
      "\t</head>\r\n",
      "\t\r\n",
      "\t<body>\r\n",
      "\r\n",
      "\t\t<div id=\"coming-soon\">\r\n",
      "\t\t\t<h1>Welcome to the homepage of <b>Srujun Gupta!</b></h1>\r\n",
      "\t\t\t<p>Sorry, but this homepage is currently under construction. Till then, you can visit the links below.</p>\r\n",
      "\t\t\t\r\n",
      "\t\t\t<p>\r\n",
      "\t\t\t\t<a class=\"links\" href=\"/canabalt/index.html\" title=\"Canabalt Game Link\">Canabalt Game</a> - \r\n",
      "\t\t\t\t<a class=\"links\" href=\"/cuboc/cuboc.html\" title=\"Cuboc Game Link\">Cuboc Game</a> - \r\n",
      "\t\t\t\t<a class=\"links\" href=\"/invaders/invaders.html\" title=\"Invaders Game Link\">3D Invaders Game</a> - \r\n",
      "\t\t\t\t<a class=\"links\" href=\"/ribbit/home.html\" title=\"Ribbit App Homepage\">Ribbit App</a>\r\n",
      "\t\t\t</p>\r\n",
      "\t\t\t\r\n",
      "\t\t\t<a href=\"http://twitter.com/SrujunGupta\" title=\"Follow me on Twitter\" class=\"twitter center\">SrujunGupta</a>\r\n",
      "\t\t</div>\r\n",
      "\r\n",
      "\t</body>\r\n",
      "</html>\n"
     ]
    }
   ],
   "source": [
    "import urllib2\n",
    "url = 'http://srujun.com'\n",
    "response = urllib2.urlopen(url)\n",
    "html = response.read()\n",
    "\n",
    "print(html)"
   ]
  },
  {
   "cell_type": "markdown",
   "metadata": {},
   "source": [
    "This prints out the complete source HTML of the website. We have this data stored as a regular string in the `html` variable, and we can now do whatever we want with it."
   ]
  },
  {
   "cell_type": "markdown",
   "metadata": {},
   "source": [
    "***\n",
    "## Build a Weather Reporting Program!"
   ]
  },
  {
   "cell_type": "markdown",
   "metadata": {},
   "source": [
    "Let's now use the `urllib2` module to build a small program that tells you the city and the current weather when you give it the zip code of a place.\n",
    "\n",
    "For the weather data, we will use the service OpenWeatherMap.org. Type the URL http://api.openweathermap.org/data/2.5/weather?zip=61820,us into the address bar in a new tab. The website shows text about the weather information in the area of zipcode 61820 (Champaign). Let's load this information through `urllib2`."
   ]
  },
  {
   "cell_type": "code",
   "execution_count": 18,
   "metadata": {
    "collapsed": false
   },
   "outputs": [
    {
     "name": "stdout",
     "output_type": "stream",
     "text": [
      "{\"coord\":{\"lon\":-88.24,\"lat\":40.12},\"weather\":[{\"id\":800,\"main\":\"Clear\",\"description\":\"sky is clear\",\"icon\":\"01d\"}],\"base\":\"cmc stations\",\"main\":{\"temp\":292.2,\"pressure\":1020,\"humidity\":42,\"temp_min\":291.15,\"temp_max\":293.15},\"wind\":{\"speed\":3.6,\"deg\":330},\"clouds\":{\"all\":1},\"dt\":1442160931,\"sys\":{\"type\":1,\"id\":960,\"message\":0.0034,\"country\":\"US\",\"sunrise\":1442143944,\"sunset\":1442189056},\"id\":4887158,\"name\":\"Champaign\",\"cod\":200}\n",
      "\n"
     ]
    }
   ],
   "source": [
    "# urllib2 is already imported\n",
    "\n",
    "url = 'http://api.openweathermap.org/data/2.5/weather?zip=61820,us'\n",
    "response = urllib2.urlopen(url)\n",
    "weather_html = response.read()\n",
    "\n",
    "print(weather_html)"
   ]
  },
  {
   "cell_type": "markdown",
   "metadata": {},
   "source": [
    "The string that we have received is formatted in JSON, which is very similar to a Python dictionary. Let's parse this JSON data into a Python dictionary, and also pretty print it so that we can understand the structure of the data."
   ]
  },
  {
   "cell_type": "code",
   "execution_count": 19,
   "metadata": {
    "collapsed": false
   },
   "outputs": [
    {
     "name": "stdout",
     "output_type": "stream",
     "text": [
      "{\n",
      "  \"base\": \"cmc stations\",\n",
      "  \"clouds\": {\n",
      "    \"all\": 1\n",
      "  },\n",
      "  \"cod\": 200,\n",
      "  \"coord\": {\n",
      "    \"lat\": 40.12,\n",
      "    \"lon\": -88.24\n",
      "  },\n",
      "  \"dt\": 1442160931,\n",
      "  \"id\": 4887158,\n",
      "  \"main\": {\n",
      "    \"humidity\": 42,\n",
      "    \"pressure\": 1020,\n",
      "    \"temp\": 292.2,\n",
      "    \"temp_max\": 293.15,\n",
      "    \"temp_min\": 291.15\n",
      "  },\n",
      "  \"name\": \"Champaign\",\n",
      "  \"sys\": {\n",
      "    \"country\": \"US\",\n",
      "    \"id\": 960,\n",
      "    \"message\": 0.0034,\n",
      "    \"sunrise\": 1442143944,\n",
      "    \"sunset\": 1442189056,\n",
      "    \"type\": 1\n",
      "  },\n",
      "  \"weather\": [\n",
      "    {\n",
      "      \"description\": \"sky is clear\",\n",
      "      \"icon\": \"01d\",\n",
      "      \"id\": 800,\n",
      "      \"main\": \"Clear\"\n",
      "    }\n",
      "  ],\n",
      "  \"wind\": {\n",
      "    \"deg\": 330,\n",
      "    \"speed\": 3.6\n",
      "  }\n",
      "}\n"
     ]
    }
   ],
   "source": [
    "from json import JSONDecoder, dumps\n",
    "\n",
    "decoder = JSONDecoder()\n",
    "weather_data = decoder.decode(weather_html)\n",
    "pretty_weather_data = dumps(weather_data, sort_keys=True, indent=2, separators=(',', ': '))\n",
    "\n",
    "print(pretty_weather_data)"
   ]
  },
  {
   "cell_type": "markdown",
   "metadata": {},
   "source": [
    "The information we want to build our program is the `name` field and the `temp` field which is inside the `main` sub-dictionary."
   ]
  },
  {
   "cell_type": "code",
   "execution_count": 20,
   "metadata": {
    "collapsed": false
   },
   "outputs": [
    {
     "name": "stdout",
     "output_type": "stream",
     "text": [
      "We are in Champaign and it is 66.29 degrees outside!\n"
     ]
    }
   ],
   "source": [
    "city = weather_data['name']\n",
    "\n",
    "temp_kelvin = weather_data['main']['temp']\n",
    "temp_fah = 1.8 * (temp_kelvin - 273.15) + 32\n",
    "\n",
    "print(\"We are in {0} and it is {1} degrees outside!\".format(city, temp_fah))"
   ]
  },
  {
   "cell_type": "markdown",
   "metadata": {},
   "source": [
    "Let's put all of this into a nice and easy to use function."
   ]
  },
  {
   "cell_type": "code",
   "execution_count": 21,
   "metadata": {
    "collapsed": true
   },
   "outputs": [],
   "source": [
    "def tell_me_weather(zipcode):\n",
    "    # import urllib2\n",
    "    \n",
    "    url = 'http://api.openweathermap.org/data/2.5/weather?zip={0},us'.format(zipcode)\n",
    "    response = urllib2.urlopen(url)\n",
    "    weather_html = response.read()\n",
    "    \n",
    "    # from json import JSONDecoder, dumps\n",
    "\n",
    "    decoder = JSONDecoder()\n",
    "    weather_data = decoder.decode(weather_html)\n",
    "    \n",
    "    city = weather_data['name']\n",
    "\n",
    "    temp_kelvin = weather_data['main']['temp']\n",
    "    temp_fah = 1.8 * (temp_kelvin - 273.15) + 32\n",
    "\n",
    "    print(\"You are in {0} and it is {1} degrees outside!\".format(city, temp_fah))"
   ]
  },
  {
   "cell_type": "markdown",
   "metadata": {},
   "source": [
    "Now let's use our new `tell_me_weather` function!"
   ]
  },
  {
   "cell_type": "code",
   "execution_count": 22,
   "metadata": {
    "collapsed": false
   },
   "outputs": [
    {
     "name": "stdout",
     "output_type": "stream",
     "text": [
      "You are in Vernon Hills and it is 64.778 degrees outside!\n",
      "None\n"
     ]
    }
   ],
   "source": [
    "print( tell_me_weather(60061) )"
   ]
  },
  {
   "cell_type": "markdown",
   "metadata": {},
   "source": [
    "***\n",
    "## Getting started with NumPy"
   ]
  },
  {
   "cell_type": "markdown",
   "metadata": {},
   "source": [
    "NumPy (or Numerical Python), is part of a great set of free scientific computing libraries called SciPy that provide mathematical and numerical functions that work very fast. NumPy is like MATLAB, and you can use it to create very powerful arrays and matrices, and it also has various kinds of optimization algorithms and linear algebra functions that are very useful for data science and analytics"
   ]
  },
  {
   "cell_type": "code",
   "execution_count": 23,
   "metadata": {
    "collapsed": true
   },
   "outputs": [],
   "source": [
    "# Let's import numpy to use some of its functions\n",
    "import numpy as np"
   ]
  },
  {
   "cell_type": "markdown",
   "metadata": {},
   "source": [
    "The central feature of NumPy is the array object class. Arrays are similar to lists in Python, except that every element of an array must be of the same type, typically a numeric type like `float` or `int`. Arrays make operations with large amounts of numeric data very fast and are generally much more efficient than lists."
   ]
  },
  {
   "cell_type": "code",
   "execution_count": 24,
   "metadata": {
    "collapsed": false
   },
   "outputs": [
    {
     "name": "stdout",
     "output_type": "stream",
     "text": [
      "[1 4 5 8]\n"
     ]
    }
   ],
   "source": [
    "my_list = [1, 4, 5, 8]\n",
    "a = np.array(my_list)\n",
    "\n",
    "print(a)"
   ]
  },
  {
   "cell_type": "markdown",
   "metadata": {},
   "source": [
    "Array elements are accessed, sliced, and manipulated just like lists."
   ]
  },
  {
   "cell_type": "code",
   "execution_count": 25,
   "metadata": {
    "collapsed": false
   },
   "outputs": [
    {
     "name": "stdout",
     "output_type": "stream",
     "text": [
      "8\n",
      "[1 4]\n",
      "[5 4 5 8]\n"
     ]
    }
   ],
   "source": [
    "# accessing elements of the array using an index\n",
    "# return the 4th element in the array (0-indexed!)\n",
    "print(a[3])\n",
    "\n",
    "# accessing multiple continuous elements of the array, also called slicing\n",
    "print(a[:2])\n",
    "\n",
    "# modifying elements of the array\n",
    "a[0] = 5\n",
    "print(a)"
   ]
  },
  {
   "cell_type": "markdown",
   "metadata": {},
   "source": [
    "Note that the type of `a` is \"`ndarray`\""
   ]
  },
  {
   "cell_type": "code",
   "execution_count": 26,
   "metadata": {
    "collapsed": false
   },
   "outputs": [
    {
     "name": "stdout",
     "output_type": "stream",
     "text": [
      "<type 'numpy.ndarray'>\n"
     ]
    }
   ],
   "source": [
    "print(type(a))"
   ]
  },
  {
   "cell_type": "markdown",
   "metadata": {},
   "source": [
    "This means that numpy can handle multi-dimensional arrays. Let's create a 2-dimensional array"
   ]
  },
  {
   "cell_type": "code",
   "execution_count": 27,
   "metadata": {
    "collapsed": false
   },
   "outputs": [
    {
     "name": "stdout",
     "output_type": "stream",
     "text": [
      "[[1 2 3]\n",
      " [4 5 6]]\n"
     ]
    }
   ],
   "source": [
    "b = np.array([[1, 2, 3], [4, 5, 6]])\n",
    "print(b)"
   ]
  },
  {
   "cell_type": "code",
   "execution_count": 28,
   "metadata": {
    "collapsed": false
   },
   "outputs": [
    {
     "name": "stdout",
     "output_type": "stream",
     "text": [
      "2\n"
     ]
    }
   ],
   "source": [
    "# access the element is the first row, second column\n",
    "print( b[0, 1] )"
   ]
  },
  {
   "cell_type": "code",
   "execution_count": 29,
   "metadata": {
    "collapsed": false
   },
   "outputs": [
    {
     "name": "stdout",
     "output_type": "stream",
     "text": [
      "[3 6]\n"
     ]
    }
   ],
   "source": [
    "# slice the array and access only the 3rd column\n",
    "print( b[:, 2] )"
   ]
  },
  {
   "cell_type": "markdown",
   "metadata": {},
   "source": [
    "The `shape` property returns the size of each dimension of the array"
   ]
  },
  {
   "cell_type": "code",
   "execution_count": 30,
   "metadata": {
    "collapsed": false
   },
   "outputs": [
    {
     "name": "stdout",
     "output_type": "stream",
     "text": [
      "(4,)\n",
      "(2, 3)\n"
     ]
    }
   ],
   "source": [
    "print( a.shape )\n",
    "print( b.shape )"
   ]
  },
  {
   "cell_type": "markdown",
   "metadata": {},
   "source": [
    "The `in` statement can be used to check if values are present in the array"
   ]
  },
  {
   "cell_type": "code",
   "execution_count": 31,
   "metadata": {
    "collapsed": false
   },
   "outputs": [
    {
     "name": "stdout",
     "output_type": "stream",
     "text": [
      "True\n"
     ]
    }
   ],
   "source": [
    "print( 3 in b )"
   ]
  },
  {
   "cell_type": "code",
   "execution_count": 32,
   "metadata": {
    "collapsed": false
   },
   "outputs": [
    {
     "name": "stdout",
     "output_type": "stream",
     "text": [
      "False\n"
     ]
    }
   ],
   "source": [
    "print( 7 in a )"
   ]
  },
  {
   "cell_type": "markdown",
   "metadata": {},
   "source": [
    "Arrays can be reshaped to different dimension sizes"
   ]
  },
  {
   "cell_type": "code",
   "execution_count": 33,
   "metadata": {
    "collapsed": false
   },
   "outputs": [
    {
     "name": "stdout",
     "output_type": "stream",
     "text": [
      "[ 0.  1.  2.  3.  4.  5.  6.  7.  8.  9.]\n",
      "(10,)\n"
     ]
    }
   ],
   "source": [
    "a = np.array(range(10), float)\n",
    "print(a)\n",
    "print(a.shape)"
   ]
  },
  {
   "cell_type": "code",
   "execution_count": 34,
   "metadata": {
    "collapsed": false
   },
   "outputs": [
    {
     "name": "stdout",
     "output_type": "stream",
     "text": [
      "[[ 0.  1.]\n",
      " [ 2.  3.]\n",
      " [ 4.  5.]\n",
      " [ 6.  7.]\n",
      " [ 8.  9.]]\n",
      "(5, 2)\n"
     ]
    }
   ],
   "source": [
    "# reshape (10,) array to (5,2)\n",
    "a = a.reshape((5, 2))\n",
    "print(a)\n",
    "print(a.shape)"
   ]
  },
  {
   "cell_type": "markdown",
   "metadata": {},
   "source": [
    "We can create special matrices in NumPy too! Remember that they are still referred to as arrays in NumPy."
   ]
  },
  {
   "cell_type": "code",
   "execution_count": 35,
   "metadata": {
    "collapsed": false
   },
   "outputs": [
    {
     "name": "stdout",
     "output_type": "stream",
     "text": [
      "[[ 1.  0.  0.  0.]\n",
      " [ 0.  1.  0.  0.]\n",
      " [ 0.  0.  1.  0.]\n",
      " [ 0.  0.  0.  1.]]\n"
     ]
    }
   ],
   "source": [
    "# create the identity 2-dimensional array of shape (4,4)\n",
    "i = np.identity(4)\n",
    "print(i)"
   ]
  },
  {
   "cell_type": "code",
   "execution_count": 36,
   "metadata": {
    "collapsed": false
   },
   "outputs": [
    {
     "name": "stdout",
     "output_type": "stream",
     "text": [
      "[[ 1.  1.  1.]\n",
      " [ 1.  1.  1.]\n",
      " [ 1.  1.  1.]]\n"
     ]
    }
   ],
   "source": [
    "# create a (3,3) array with all ones\n",
    "o = np.ones((3,3))\n",
    "print(o)"
   ]
  },
  {
   "cell_type": "markdown",
   "metadata": {},
   "source": [
    "We can even do math operations on these arrays. All of the operations below happen element-wise. To do matrix multiplication and other matrix-specific math, we will have to use NumPy's linear algebra functions."
   ]
  },
  {
   "cell_type": "code",
   "execution_count": 37,
   "metadata": {
    "collapsed": false
   },
   "outputs": [
    {
     "name": "stdout",
     "output_type": "stream",
     "text": [
      "[ 1.  2.  3.]\n",
      "[ 5.  2.  6.]\n"
     ]
    }
   ],
   "source": [
    "a = np.array([1,2,3], float)\n",
    "b = np.array([5,2,6], float)\n",
    "print(a)\n",
    "print(b)"
   ]
  },
  {
   "cell_type": "code",
   "execution_count": 38,
   "metadata": {
    "collapsed": false
   },
   "outputs": [
    {
     "name": "stdout",
     "output_type": "stream",
     "text": [
      "[ 6.  4.  9.]\n"
     ]
    }
   ],
   "source": [
    "print( a + b )"
   ]
  },
  {
   "cell_type": "code",
   "execution_count": 39,
   "metadata": {
    "collapsed": false
   },
   "outputs": [
    {
     "name": "stdout",
     "output_type": "stream",
     "text": [
      "[-4.  0. -3.]\n"
     ]
    }
   ],
   "source": [
    "print( a - b )"
   ]
  },
  {
   "cell_type": "code",
   "execution_count": 40,
   "metadata": {
    "collapsed": false
   },
   "outputs": [
    {
     "name": "stdout",
     "output_type": "stream",
     "text": [
      "[  5.   4.  18.]\n"
     ]
    }
   ],
   "source": [
    "print( a * b )"
   ]
  },
  {
   "cell_type": "code",
   "execution_count": 41,
   "metadata": {
    "collapsed": false
   },
   "outputs": [
    {
     "name": "stdout",
     "output_type": "stream",
     "text": [
      "[ 5.  1.  2.]\n"
     ]
    }
   ],
   "source": [
    "print( b / a )"
   ]
  },
  {
   "cell_type": "code",
   "execution_count": 42,
   "metadata": {
    "collapsed": false
   },
   "outputs": [
    {
     "name": "stdout",
     "output_type": "stream",
     "text": [
      "[   5.    4.  216.]\n"
     ]
    }
   ],
   "source": [
    "print( b ** a)"
   ]
  },
  {
   "cell_type": "code",
   "execution_count": null,
   "metadata": {
    "collapsed": true
   },
   "outputs": [],
   "source": []
  }
 ],
 "metadata": {
  "kernelspec": {
   "display_name": "Python 2",
   "language": "python",
   "name": "python2"
  },
  "language_info": {
   "codemirror_mode": {
    "name": "ipython",
    "version": 2
   },
   "file_extension": ".py",
   "mimetype": "text/x-python",
   "name": "python",
   "nbconvert_exporter": "python",
   "pygments_lexer": "ipython2",
   "version": "2.7.6"
  }
 },
 "nbformat": 4,
 "nbformat_minor": 0
}
