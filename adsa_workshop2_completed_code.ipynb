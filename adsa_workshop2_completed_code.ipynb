{
 "cells": [
  {
   "cell_type": "markdown",
   "metadata": {},
   "source": [
    "![ADSA Logo](http://i.imgur.com/BV0CdHZ.png?2 \"ADSA Logo\")"
   ]
  },
  {
   "cell_type": "markdown",
   "metadata": {},
   "source": [
    "# ADSA Workshop 2 - Diving Deeper into Python\n",
    "> Workshop content adapted from\n",
    "* https://github.com/ehmatthes/intro_programming/\n",
    "* http://github.com/rasbt/python_reference/blob/master/tutorials/sorting_csvs.ipynb\n",
    "* http://www.engr.ucsb.edu/~shell/che210d/numpy.pdf"
   ]
  },
  {
   "cell_type": "markdown",
   "metadata": {},
   "source": [
    "This code imports the testing library and modifies the print command to work as a regular Python function"
   ]
  },
  {
   "cell_type": "code",
   "execution_count": 1,
   "metadata": {
    "collapsed": true
   },
   "outputs": [],
   "source": [
    "from test_helper import Test\n",
    "from __future__ import print_function"
   ]
  },
  {
   "cell_type": "markdown",
   "metadata": {},
   "source": [
    "## Refresher of Workshop 1"
   ]
  },
  {
   "cell_type": "markdown",
   "metadata": {},
   "source": [
    "In the first workshop (accessible here: https://github.com/ADSA-UIUC/PythonWorkshop_1/), we learned the following topics:"
   ]
  },
  {
   "cell_type": "markdown",
   "metadata": {},
   "source": [
    "### Comments"
   ]
  },
  {
   "cell_type": "code",
   "execution_count": 2,
   "metadata": {
    "collapsed": false
   },
   "outputs": [
    {
     "name": "stdout",
     "output_type": "stream",
     "text": [
      "This line is not a comment, so it gets executed.\n"
     ]
    }
   ],
   "source": [
    "# Any line that starts with a '#' is a comment.\n",
    "# print('This line is a comment, so it gets executed.')\n",
    "\n",
    "print('This line is not a comment, so it gets executed.')"
   ]
  },
  {
   "cell_type": "markdown",
   "metadata": {},
   "source": [
    "### Variables: Strings and Numbers"
   ]
  },
  {
   "cell_type": "code",
   "execution_count": 3,
   "metadata": {
    "collapsed": false
   },
   "outputs": [
    {
     "name": "stdout",
     "output_type": "stream",
     "text": [
      "c is equal to 16.1, d is equal to 23.1\n"
     ]
    }
   ],
   "source": [
    "# declare a string\n",
    "my_str = 'Strings are enclosed by single- or double-quotes.'\n",
    "\n",
    "# declare some integers\n",
    "a = 7\n",
    "b = 2.3\n",
    "c = a * b\n",
    "d = a + c\n",
    "\n",
    "# operations on numbers\n",
    "print('c is equal to {0}, d is equal to {1}'.format(c, d))"
   ]
  },
  {
   "cell_type": "markdown",
   "metadata": {},
   "source": [
    "### If-else Conditionals"
   ]
  },
  {
   "cell_type": "code",
   "execution_count": 4,
   "metadata": {
    "collapsed": false
   },
   "outputs": [
    {
     "name": "stdout",
     "output_type": "stream",
     "text": [
      "Condition is True\n",
      "Condition is True or False, either way this is outputted\n"
     ]
    }
   ],
   "source": [
    "if 35 >= 17:\n",
    "    print(\"Condition is True\")\n",
    "else:\n",
    "    print(\"Condition is False\")\n",
    "print(\"Condition is True or False, either way this is outputted\")"
   ]
  },
  {
   "cell_type": "markdown",
   "metadata": {},
   "source": [
    "### Lists and Loops"
   ]
  },
  {
   "cell_type": "code",
   "execution_count": 5,
   "metadata": {
    "collapsed": false
   },
   "outputs": [
    {
     "name": "stdout",
     "output_type": "stream",
     "text": [
      "['Eric Idle', 'John Cleese', 'Albert Fry']\n"
     ]
    }
   ],
   "source": [
    "awesome_people = [\"Eric Idle\", \"John Cleese\", \"Albert Fry\"]\n",
    "print(awesome_people)"
   ]
  },
  {
   "cell_type": "code",
   "execution_count": 6,
   "metadata": {
    "collapsed": false
   },
   "outputs": [
    {
     "name": "stdout",
     "output_type": "stream",
     "text": [
      "I am on iteration 0!\n",
      "I am on iteration 1!\n",
      "I am on iteration 2!\n",
      "I am on iteration 3!\n",
      "I am on iteration 4!\n"
     ]
    }
   ],
   "source": [
    "for number in range(0, 5):\n",
    "    print(\"I am on iteration {0}!\".format(number))"
   ]
  },
  {
   "cell_type": "markdown",
   "metadata": {},
   "source": [
    "***\n",
    "## Functions"
   ]
  },
  {
   "cell_type": "markdown",
   "metadata": {},
   "source": [
    "Functions are a set of actions that we group together, and give a name to. We can define our own functions, which allows us to \"teach\" Python new behavior.\n",
    "\n",
    "Here is the general syntax for defining and calling functions.\n",
    "\n",
    "    # Let's define a function.\n",
    "    def function_name(argument_1, argument_2):\n",
    "        # Do whatever we want this function to do,\n",
    "        #  using argument_1 and argument_2\n",
    "\n",
    "    # Use function_name to call the function.\n",
    "    function_name(value_1, value_2)"
   ]
  },
  {
   "cell_type": "markdown",
   "metadata": {},
   "source": [
    "* __Defining a function__\n",
    "    * The keyword `def` tells Python that you are about to define a function.\n",
    "    * Functions have a name. A variable name tells you what kind of value the variable contains; a function name should tell you what the function does.\n",
    "    * The values inside parentheses are called __arguments__ or __parameters__. Functions use parameters to get data it may need to execute.\n",
    "        * These are basically variable names, but they are only used in the function.\n",
    "        * They can be different names than what you use in the rest of your program.\n",
    "    * Make sure the function definition line ends with a colon.\n",
    "* __Using your function__\n",
    "    * To call your function, write its name followed by parentheses.\n",
    "    * Inside the parentheses, provide the values for the function's parameters.\n",
    "    * These can be values can be other variables you have defined or literal values."
   ]
  },
  {
   "cell_type": "code",
   "execution_count": 7,
   "metadata": {
    "collapsed": false
   },
   "outputs": [],
   "source": [
    "# This function prints a two-line personalized thank you message.\n",
    "def thank_you(name):\n",
    "    # print() is also a function!\n",
    "    # It prints the string you give it onto the screen.\n",
    "    \n",
    "    print('You are doing good work, {0}!'.format(name))\n",
    "    print('Thank you very much for your efforts on this project.\\n')"
   ]
  },
  {
   "cell_type": "code",
   "execution_count": 8,
   "metadata": {
    "collapsed": false
   },
   "outputs": [
    {
     "name": "stdout",
     "output_type": "stream",
     "text": [
      "You are doing good work, Adriana!\n",
      "Thank you very much for your efforts on this project.\n",
      "\n",
      "You are doing good work, Billy!\n",
      "Thank you very much for your efforts on this project.\n",
      "\n",
      "You are doing good work, Caroline!\n",
      "Thank you very much for your efforts on this project.\n",
      "\n"
     ]
    }
   ],
   "source": [
    "# now we can use the function that we just defined\n",
    "\n",
    "thank_you('Adriana')\n",
    "thank_you('Billy')\n",
    "thank_you('Caroline')"
   ]
  },
  {
   "cell_type": "code",
   "execution_count": 9,
   "metadata": {
    "collapsed": false
   },
   "outputs": [
    {
     "name": "stdout",
     "output_type": "stream",
     "text": [
      "Students in alphabetical order.\n",
      "Aaron\n",
      "Bernice\n",
      "Cody\n",
      "\n",
      "Students in reverse alphabetical order.\n",
      "Cody\n",
      "Bernice\n",
      "Aaron\n"
     ]
    }
   ],
   "source": [
    "students = ['Bernice', 'Aaron', 'Cody']\n",
    "\n",
    "# Use the sort function to put students in alphabetical order.\n",
    "students.sort()\n",
    "\n",
    "# Display the list in its current order.\n",
    "print(\"Students in alphabetical order.\")\n",
    "for student in students:\n",
    "    print(student.title())\n",
    "\n",
    "# Give the sort function the reverse parameter\n",
    "# This puts students in reverse alphabetical order.\n",
    "students.sort(reverse=True)\n",
    "\n",
    "# Display the list in reverse order.\n",
    "print(\"\\nStudents in reverse alphabetical order.\")\n",
    "for student in students:\n",
    "    print(student.title())"
   ]
  },
  {
   "cell_type": "markdown",
   "metadata": {},
   "source": [
    "### Advantages of using functions\n",
    "You might be able to see some advantages of using functions:\n",
    "* We can write a set of instructions once and use it as many times as we want without retyping it.\n",
    "* When our function works, we don't have to worry about that code anymore. Every time you repeat code in your program, you introduce an opportunity to make a mistake. Writing code in functions means the any possible errors are localized. And when those bugs are fixed, we can be confident that the function will continue to work correctly.\n",
    "* We can modify our function's behavior once, and that change takes effect every time the function is called. This is much better than deciding we need some new behavior, and then having to change code in many different places in our program."
   ]
  },
  {
   "cell_type": "markdown",
   "metadata": {},
   "source": [
    "### Returning Values from Functions"
   ]
  },
  {
   "cell_type": "markdown",
   "metadata": {},
   "source": [
    "Each function you create can return a value. This can be in addition to the primary work the function does, or it can be the function's main job. The following function takes in a number, and returns the corresponding word for that number:"
   ]
  },
  {
   "cell_type": "code",
   "execution_count": 10,
   "metadata": {
    "collapsed": false
   },
   "outputs": [
    {
     "name": "stdout",
     "output_type": "stream",
     "text": [
      "0 None\n",
      "1 one\n",
      "2 two\n",
      "3 three\n"
     ]
    }
   ],
   "source": [
    "def get_number_word(number):\n",
    "    # Takes in a numerical value, and returns the word corresponding to that number.\n",
    "    if number == 1:\n",
    "        return 'one'\n",
    "    elif number == 2:\n",
    "        return 'two'\n",
    "    elif number == 3:\n",
    "        return 'three'\n",
    "    \n",
    "# Let's try out our function.\n",
    "for number in range(0, 4):\n",
    "    number_word = get_number_word(number)\n",
    "    print(number, number_word)"
   ]
  },
  {
   "cell_type": "code",
   "execution_count": 11,
   "metadata": {
    "collapsed": false
   },
   "outputs": [
    {
     "name": "stdout",
     "output_type": "stream",
     "text": [
      "Adding 5 to 10 now...\n",
      "New number is: 15\n"
     ]
    }
   ],
   "source": [
    "def add_five(number):\n",
    "    print(\"Adding 5 to\", number, \"now...\")\n",
    "    return number + 5\n",
    "    print(\"This will not get printed\")\n",
    "    \n",
    "# Now use your function add_five()\n",
    "num = add_five(10)\n",
    "print(\"New number is:\", num)"
   ]
  },
  {
   "cell_type": "markdown",
   "metadata": {},
   "source": [
    "***\n",
    "## Dictionaries"
   ]
  },
  {
   "cell_type": "markdown",
   "metadata": {},
   "source": [
    "Dictionaries allow us to store connected bits of information. For example, you might store a person's name and age together. They store information in key-value pairs, so that any one piece of information in a dictionary is connected to at least one other piece of information.\n",
    "\n",
    "The general syntax of how dictionaries are declared are:\n",
    "\n",
    "`dictionary_name = {key_1: value_1, key_2: value_2, key_3: value_3}`"
   ]
  },
  {
   "cell_type": "markdown",
   "metadata": {},
   "source": [
    "### Adding and Accessing Key-Value Pairs"
   ]
  },
  {
   "cell_type": "code",
   "execution_count": 12,
   "metadata": {
    "collapsed": false
   },
   "outputs": [
    {
     "name": "stdout",
     "output_type": "stream",
     "text": [
      "Willie is a dog\n",
      "Schroedinger is a cat\n",
      "Zinga is a hamster\n"
     ]
    }
   ],
   "source": [
    "# Create an empty dictionary.\n",
    "pets = {}\n",
    "\n",
    "# Fill the dictionary, pair by pair.\n",
    "pets['Willie'] ='dog'\n",
    "pets['Schroedinger'] = 'cat'\n",
    "pets['Zinga'] = 'hamster'\n",
    "\n",
    "# Print out the items in the dictionary.\n",
    "for name, animal in pets.items():\n",
    "    print(name, 'is a', animal)"
   ]
  },
  {
   "cell_type": "markdown",
   "metadata": {},
   "source": [
    "Removing key-value pairs from a dictionary is done using the `del` keyword:"
   ]
  },
  {
   "cell_type": "code",
   "execution_count": 13,
   "metadata": {
    "collapsed": false
   },
   "outputs": [
    {
     "name": "stdout",
     "output_type": "stream",
     "text": [
      "{'Willie': 'dog', 'Schroedinger': 'cat'}\n"
     ]
    }
   ],
   "source": [
    "del pets['Zinga']\n",
    "\n",
    "print(pets)"
   ]
  },
  {
   "cell_type": "markdown",
   "metadata": {},
   "source": [
    "The key-value format of the dictionary data structure is actually quite accessible. Usually, data on the internet obtained from APIs follow the JSON format and their similar structure to dictionaries allows us to easily convert between JSON data and dictionaries."
   ]
  },
  {
   "cell_type": "markdown",
   "metadata": {},
   "source": [
    "***\n",
    "## A Look at the Python Standard Library"
   ]
  },
  {
   "cell_type": "markdown",
   "metadata": {},
   "source": [
    "Python comes \"batteries loaded\". This means that Python comes with a lot of prewritten code that is called the standard library. This library is very extensive, and offers a lot of modules and classes to accomplish a wide range of tasks.\n",
    "\n",
    "All of the modules in Python 2.7's Standard Library are listed in the official documentation at https://docs.python.org/2/library/index.html. To use any of these modules, you need to import them or the specific functions in them:\n",
    "\n",
    "    import math\n",
    "    from math import factorial, log\n",
    "\n",
    "Now we are going to look at some functions in the String and Regex modules."
   ]
  },
  {
   "cell_type": "markdown",
   "metadata": {},
   "source": [
    "### Strings and Math"
   ]
  },
  {
   "cell_type": "markdown",
   "metadata": {},
   "source": [
    "The `string` module is imported by default, so all string functions are always accessible. The availble string functions are listed here: https://docs.python.org/2/library/stdtypes.html#string-methods."
   ]
  },
  {
   "cell_type": "code",
   "execution_count": 14,
   "metadata": {
    "collapsed": false
   },
   "outputs": [
    {
     "name": "stdout",
     "output_type": "stream",
     "text": [
      "HI! MY NAME IS PYTHON!\n",
      "hI! mY NAME IS pYTHON!\n",
      "True\n"
     ]
    }
   ],
   "source": [
    "str = 'Hi! My name is Python!'\n",
    "\n",
    "# convert the string to uppercase letters\n",
    "print(str.upper())\n",
    "\n",
    "# convert all lowercase letters to uppercase and vice versa\n",
    "print(str.swapcase())\n",
    "\n",
    "# check if a string is a digit(s) or not\n",
    "print( \"83\".isdigit() )"
   ]
  },
  {
   "cell_type": "markdown",
   "metadata": {},
   "source": [
    "The `math` module's functions are listed here: https://docs.python.org/2/library/math.html"
   ]
  },
  {
   "cell_type": "code",
   "execution_count": 15,
   "metadata": {
    "collapsed": false
   },
   "outputs": [
    {
     "name": "stdout",
     "output_type": "stream",
     "text": [
      "3.74165738677\n",
      "1.22464679915e-16\n"
     ]
    }
   ],
   "source": [
    "import math\n",
    "\n",
    "mynum = 14\n",
    "print(math.sqrt(mynum))\n",
    "\n",
    "# math.pi is a constant in the math module\n",
    "print( math.sin(math.pi) ) # should be almost 0"
   ]
  },
  {
   "cell_type": "markdown",
   "metadata": {},
   "source": [
    "### Parsing CSV Files"
   ]
  },
  {
   "cell_type": "markdown",
   "metadata": {},
   "source": [
    "The CSV (Comma Separated Values) format is the most common import and export format for spreadsheets and databases. Although there is no standard for how the data is formatted, the generally followed format is like so:\n",
    "\n",
    "    column1_title, column2_title, column3_title\n",
    "    row1_data1, row1_data2, row1_data3\n",
    "    row2_data1, row2_data2, row2_data3\n",
    "    ...\n",
    "\n",
    "While the delimiters and quoting characters vary, the overall format is similar enough for easy parsing using the `csv` module.\n",
    "\n",
    "In the `data` folder, there is a `test.csv` file with the following contents:\n",
    "\n",
    "    name,column1,column2,column3\n",
    "    abc,1.1,4.2,1.2\n",
    "    def,2.1,1.4,5.2\n",
    "    ghi,1.5,1.2,2.1\n",
    "    jkl,1.8,1.1,4.2\n",
    "    mno,9.4,6.6,6.2\n",
    "    pqr,1.4,8.3,8.4\n",
    "    \n",
    "Let's see how to parse the file and read the first few lines."
   ]
  },
  {
   "cell_type": "code",
   "execution_count": 16,
   "metadata": {
    "collapsed": false
   },
   "outputs": [
    {
     "name": "stdout",
     "output_type": "stream",
     "text": [
      "First 3 rows:\n",
      "['name', 'column1', 'column2', 'column3']\n",
      "['abc', '1.1', '4.2', '1.2']\n",
      "['def', '2.1', '1.4', '5.2']\n"
     ]
    }
   ],
   "source": [
    "import csv\n",
    "\n",
    "# the relative path to the location of our csv file\n",
    "csv_file = 'data/test.csv'\n",
    "\n",
    "# a blank object that will store the parsed csv data\n",
    "test_csv = None\n",
    "\n",
    "# Whenever you call the open() function in Python,\n",
    "# you also need to call the close function. But since\n",
    "# a lot of people forget, the general syntax people\n",
    "# use is the \"with as\" structure.\n",
    "# In the case below, the file contents that the\n",
    "# open() function returns is stored in a temporary\n",
    "# variable called csv_con.\n",
    "with open(csv_file, 'r') as csv_con:\n",
    "    # create a reader variable to read and parse csv_con\n",
    "    reader = csv.reader(csv_con, delimiter=',')\n",
    "    # store the parsed data as a list in test_csv\n",
    "    test_csv = list(reader)\n",
    "\n",
    "print('First 3 rows:')\n",
    "for row in range(3):\n",
    "    print(test_csv[row])"
   ]
  },
  {
   "cell_type": "markdown",
   "metadata": {},
   "source": [
    "### Accessing the web using `urllib2`"
   ]
  },
  {
   "cell_type": "markdown",
   "metadata": {},
   "source": [
    "`urllib2` is a very easy-to-use module to fetch URLs (Uniform Resource Locators). You can use this module to easily read and use web content in your code.\n",
    "\n",
    "Let's start by seeing what reading the Python.org homepage through urllib2 looks like."
   ]
  },
  {
   "cell_type": "code",
   "execution_count": 17,
   "metadata": {
    "collapsed": false
   },
   "outputs": [
    {
     "name": "stdout",
     "output_type": "stream",
     "text": [
      "<!doctype html>\n",
      "<!--[if lt IE 7]>   <html class=\"no-js ie6 lt-ie7 lt-ie8 lt-ie9\">   <![endif]-->\n",
      "<!--[if IE 7]>      <html class=\"no-js ie7 lt-ie8 lt-ie9\">          <![endif]-->\n",
      "<!--[if IE 8]>      <html class=\"no-js ie8 lt-ie9\">                 <![endif]-->\n",
      "<!--[if gt IE 8]><!--><html class=\"no-js\" lang=\"en\" dir=\"ltr\">  <!--<![endif]-->\n",
      "\n",
      "<head>\n",
      "    <meta charset=\"utf-8\">\n",
      "    <meta http-equiv=\"X-UA-Compatible\" content=\"IE=edge\">\n",
      "\n",
      "    <link rel=\"prefetch\" href=\"//ajax.googleapis.com/ajax/libs/jquery/1.8.2/jquery.min.js\">\n",
      "\n",
      "    <meta name=\"application-name\" content=\"Python.org\">\n",
      "    <meta name=\"msapplication-tooltip\" content=\"The official home of the Python Programming Language\">\n",
      "    <meta name=\"apple-mobile-web-app-title\" content=\"Python.org\">\n",
      "    <meta name=\"apple-mobile-web-app-capable\" content=\"yes\">\n",
      "    <meta name=\"apple-mobile-web-app-status-bar-style\" content=\"black\">\n",
      "\n",
      "    <meta name=\"viewport\" content=\"width=device-width, initial-scale=1.0\">\n",
      "    <meta name=\"HandheldFriendly\" content=\"True\">\n",
      "    <meta name=\"format-detection\" content=\"telephone=no\">\n",
      "    <meta http-equiv=\"cleartype\" content=\"on\">\n",
      "    <meta http-equiv=\"imagetoolbar\" content=\"false\">\n",
      "\n",
      "    <script src=\"/static/js/libs/modernizr.js\"></script>\n",
      "\n",
      "    <link href=\"/static/stylesheets/style.css\" rel=\"stylesheet\" type=\"text/css\" title=\"default\" />\n",
      "    <link href=\"/static/stylesheets/mq.css\" rel=\"stylesheet\" type=\"text/css\" media=\"not print, braille, embossed, speech, tty\" />\n",
      "    \n",
      "\n",
      "    <!--[if (lte IE 8)&(!IEMobile)]>\n",
      "    <link href=\"/static/stylesheets/no-mq.css\" rel=\"stylesheet\" type=\"text/css\" media=\"screen\" />\n",
      "    \n",
      "    \n",
      "    <![endif]-->\n",
      "\n",
      "    \n",
      "    <link rel=\"icon\" type=\"image/x-icon\" href=\"/static/favicon.ico\">\n",
      "    <link rel=\"apple-touch-icon-precomposed\" sizes=\"144x144\" href=\"/static/apple-touch-icon-144x144-precomposed.png\">\n",
      "    <link rel=\"apple-touch-icon-precomposed\" sizes=\"114x114\" href=\"/static/apple-touch-icon-114x114-precomposed.png\">\n",
      "    <link rel=\"apple-touch-icon-precomposed\" sizes=\"72x72\" href=\"/static/apple-touch-icon-72x72-precomposed.png\">\n",
      "    <link rel=\"apple-touch-icon-precomposed\" href=\"/static/apple-touch-icon-precomposed.png\">\n",
      "    <link rel=\"apple-touch-icon\" href=\"/static/apple-touch-icon-precomposed.png\">\n",
      "\n",
      "    \n",
      "    <meta name=\"msapplication-TileImage\" content=\"/static/metro-icon-144x144-precomposed.png\"><!-- white shape -->\n",
      "    <meta name=\"msapplication-TileColor\" content=\"#3673a5\"><!-- python blue -->\n",
      "    <meta name=\"msapplication-navbutton-color\" content=\"#3673a5\">\n",
      "\n",
      "    <meta property=\"og:site_name\" content=\"Python.org\">\n",
      "    <meta property=\"og:type\" content=\"website\">\n",
      "\n",
      "    <title>Welcome to Python.org</title>\n",
      "    <meta property=\"og:title\" content=\"Welcome to Python.org\">\n",
      "\n",
      "    \n",
      "    <meta name=\"description\" content=\"The official home of the Python Programming Language\">\n",
      "    <meta name=\"og:description\" content=\"The official home of the Python Programming Language\">\n",
      "    <meta name=\"keywords\" content=\"Python programming language object oriented web free open source software license documentation download community\">\n",
      "    <meta property=\"og:tag\" content=\"Python programming language object oriented web free open source software license documentation download community\">\n",
      "    <meta property=\"og:published_time\" content=\"\">\n",
      "    <meta property=\"og:modified_time\" content=\"\">\n",
      "    <meta property=\"og:author\" content=\"\">\n",
      "    <meta property=\"og:section\" content=\"\"> \n",
      "    <meta property=\"og:url\" content=\"\">\n",
      "    <meta property=\"og:image\" content=\"\">\n",
      "    <meta property=\"og:video\" content=\"\">\n",
      "\n",
      "    <link rel=\"author\" href=\"/static/humans.txt\">\n",
      "\n",
      "    \n",
      "\n",
      "    \n",
      "    <script type=\"application/ld+json\">\n",
      "     {\n",
      "       \"@context\": \"http://schema.org\",\n",
      "       \"@type\": \"WebSite\",\n",
      "       \"url\": \"https://www.python.org/\",\n",
      "       \"potentialAction\": {\n",
      "         \"@type\": \"SearchAction\",\n",
      "         \"target\": \"https://www.python.org/search/?q={search_term_string}\",\n",
      "         \"query-input\": \"required name=search_term_string\"\n",
      "       }\n",
      "     }\n",
      "    </script>\n",
      "\n",
      "    \n",
      "    <script type=\"text/javascript\">\n",
      "    var _gaq = _gaq || [];\n",
      "    _gaq.push(['_setAccount', 'UA-39055973-1']);\n",
      "    _gaq.push(['_trackPageview']);\n",
      "\n",
      "    (function() {\n",
      "        var ga = document.createElement('script'); ga.type = 'text/javascript'; ga.async = true;\n",
      "        ga.src = ('https:' == document.location.protocol ? 'https://ssl' : 'http://www') + '.google-analytics.com/ga.js';\n",
      "        var s = document.getElementsByTagName('script')[0]; s.parentNode.insertBefore(ga, s);\n",
      "    })();\n",
      "    </script>\n",
      "    \n",
      "</head>\n",
      "\n",
      "<body class=\"python home\" id=\"homepage\">\n",
      "\n",
      "    <div id=\"touchnav-wrapper\">\n",
      "\n",
      "        <div id=\"nojs\" class=\"do-not-print\">\n",
      "            <p><strong>Notice:</strong> While Javascript is not essential for this website, your interaction with the content will be limited. Please turn Javascript on for the full experience. </p>\n",
      "        </div>\n",
      "\n",
      "        <!--[if lt IE 8]>\n",
      "        <div id=\"oldie-warning\" class=\"do-not-print\">\n",
      "            <p><strong>Notice:</strong> Your browser is <em>ancient</em> and <a href=\"http://www.ie6countdown.com/\">Microsoft agrees</a>. <a href=\"http://browsehappy.com/\">Upgrade to a different browser</a> or <a href=\"http://www.google.com/chromeframe/?redirect=true\">install Google Chrome Frame</a> to experience a better web.</p>\n",
      "        </div>\n",
      "        <![endif]-->\n",
      "\n",
      "        <!-- Sister Site Links -->\n",
      "        <div id=\"top\" class=\"top-bar do-not-print\">\n",
      "\n",
      "            <nav class=\"meta-navigation container\" role=\"navigation\">\n",
      "\n",
      "                \n",
      "                <div class=\"skip-link screen-reader-text\">\n",
      "                    <a href=\"#content\" title=\"Skip to content\">Skip to content</a>\n",
      "                </div>\n",
      "\n",
      "                \n",
      "                <a id=\"close-python-network\" class=\"jump-link\" href=\"#python-network\" aria-hidden=\"true\">\n",
      "                    <span aria-hidden=\"true\" class=\"icon-arrow-down\"><span>&#9660;</span></span> Close\n",
      "                </a>\n",
      "\n",
      "                \n",
      "\n",
      "<ul class=\"menu\" role=\"tree\">\n",
      "    \n",
      "    <li class=\"python-meta current_item selectedcurrent_branch selected\">\n",
      "        <a href=\"/\" title=\"The Python Programming Language\" class=\"current_item selectedcurrent_branch selected\">Python</a>\n",
      "    </li>\n",
      "    \n",
      "    <li class=\"psf-meta \">\n",
      "        <a href=\"/psf-landing/\" title=\"The Python Software Foundation\" >PSF</a>\n",
      "    </li>\n",
      "    \n",
      "    <li class=\"docs-meta \">\n",
      "        <a href=\"https://docs.python.org\" title=\"Python Documentation\" >Docs</a>\n",
      "    </li>\n",
      "    \n",
      "    <li class=\"pypi-meta \">\n",
      "        <a href=\"https://pypi.python.org/\" title=\"Python Package Index\" >PyPI</a>\n",
      "    </li>\n",
      "    \n",
      "    <li class=\"jobs-meta \">\n",
      "        <a href=\"/jobs/\" title=\"Python Job Board\" >Jobs</a>\n",
      "    </li>\n",
      "    \n",
      "    <li class=\"shop-meta \">\n",
      "        <a href=\"/community/\" title=\"Python Community\" >Community</a>\n",
      "    </li>\n",
      "    \n",
      "</ul>\n",
      "\n",
      "\n",
      "                <a id=\"python-network\" class=\"jump-link\" href=\"#top\" aria-hidden=\"true\">\n",
      "                    <span aria-hidden=\"true\" class=\"icon-arrow-up\"><span>&#9650;</span></span> The Python Network\n",
      "                </a>\n",
      "\n",
      "            </nav>\n",
      "\n",
      "        </div>\n",
      "\n",
      "        <!-- Header elements -->\n",
      "        <header class=\"main-header\" role=\"banner\">\n",
      "            <div class=\"container\">\n",
      "\n",
      "                <h1 class=\"site-headline\">\n",
      "                    <a href=\"/\"><img class=\"python-logo\" src=\"/static/img/python-logo.png\" alt=\"python&trade;\"></a>\n",
      "                </h1>\n",
      "\n",
      "                <div class=\"options-bar do-not-print\">\n",
      "\n",
      "                    \n",
      "                    <a id=\"site-map-link\" class=\"jump-to-menu\" href=\"#site-map\"><span class=\"menu-icon\">&equiv;</span> Menu</a><form class=\"search-the-site\" action=\"/search/\" method=\"get\">\n",
      "                        <fieldset title=\"Search Python.org\">\n",
      "\n",
      "                            <span aria-hidden=\"true\" class=\"icon-search\"></span>\n",
      "\n",
      "                            <label class=\"screen-reader-text\" for=\"id-search-field\">Search This Site</label>\n",
      "                            <input id=\"id-search-field\" name=\"q\" type=\"search\" role=\"textbox\" class=\"search-field\" placeholder=\"Search\" value=\"\" tabindex=\"1\">\n",
      "\n",
      "                            <button type=\"submit\" name=\"submit\" id=\"submit\" class=\"search-button\" title=\"Submit this Search\" tabindex=\"3\">\n",
      "                                GO\n",
      "                            </button>\n",
      "\n",
      "                            \n",
      "                            <!--[if IE]><input type=\"text\" style=\"display: none;\" disabled=\"disabled\" size=\"1\" tabindex=\"4\"><![endif]-->\n",
      "\n",
      "                        </fieldset>\n",
      "                    </form><span class=\"breaker\"></span><div class=\"adjust-font-size\" aria-hidden=\"true\">\n",
      "                        <ul class=\"navigation menu\" aria-label=\"Adjust Text Size on Page\">\n",
      "                            <li class=\"tier-1 last\" aria-haspopup=\"true\">\n",
      "                                <a href=\"#\" class=\"action-trigger\"><strong><small>A</small> A</strong></a>\n",
      "                                <ul class=\"subnav menu\">\n",
      "                                    <li class=\"tier-2 element-1\" role=\"treeitem\"><a class=\"text-shrink\" title=\"Make Text Smaller\" href=\"javascript:;\">Smaller</a></li>\n",
      "                                    <li class=\"tier-2 element-2\" role=\"treeitem\"><a class=\"text-grow\" title=\"Make Text Larger\" href=\"javascript:;\">Larger</a></li>\n",
      "                                    <li class=\"tier-2 element-3\" role=\"treeitem\"><a class=\"text-reset\" title=\"Reset any font size changes I have made\" href=\"javascript:;\">Reset</a></li>\n",
      "                                </ul>\n",
      "                            </li>\n",
      "                        </ul>\n",
      "                    </div><div class=\"winkwink-nudgenudge\">\n",
      "                        <ul class=\"navigation menu\" aria-label=\"Social Media Navigation\">\n",
      "                            <li class=\"tier-1 last\" aria-haspopup=\"true\">\n",
      "                                <a href=\"#\" class=\"action-trigger\">Socialize</a>\n",
      "                                <ul class=\"subnav menu\">\n",
      "                                    <li class=\"tier-2 element-1\" role=\"treeitem\"><a href=\"http://plus.google.com/+Python\"><span aria-hidden=\"true\" class=\"icon-google-plus\"></span>Google+</a></li>\n",
      "                                    <li class=\"tier-2 element-2\" role=\"treeitem\"><a href=\"http://www.facebook.com/pythonlang?fref=ts\"><span aria-hidden=\"true\" class=\"icon-facebook\"></span>Facebook</a></li>\n",
      "                                    <li class=\"tier-2 element-3\" role=\"treeitem\"><a href=\"http://twitter.com/ThePSF\"><span aria-hidden=\"true\" class=\"icon-twitter\"></span>Twitter</a></li>\n",
      "                                    <li class=\"tier-2 element-4\" role=\"treeitem\"><a href=\"/community/irc/\"><span aria-hidden=\"true\" class=\"icon-freenode\"></span>Chat on IRC</a></li>\n",
      "                                </ul>\n",
      "                            </li>\n",
      "                        </ul>\n",
      "                    </div><div class=\"account-signin\">\n",
      "                        <ul class=\"navigation menu\" aria-label=\"Social Media Navigation\">\n",
      "                            <li class=\"tier-1 last\" aria-haspopup=\"true\">\n",
      "                                \n",
      "                                <a href=\"/accounts/login/\" title=\"Sign Up or Sign In to Python.org\">Sign In</a>\n",
      "                                <ul class=\"subnav menu\">\n",
      "                                    <li class=\"tier-2 element-1\" role=\"treeitem\"><a href=\"/accounts/signup/\">Sign Up / Register</a></li>\n",
      "                                    <li class=\"tier-2 element-2\" role=\"treeitem\"><a href=\"/accounts/login/\">Sign In</a></li>\n",
      "                                </ul>\n",
      "                                \n",
      "                            </li>\n",
      "                        </ul>\n",
      "                    </div>\n",
      "\n",
      "                </div><!-- end options-bar -->\n",
      "\n",
      "                <nav id=\"mainnav\" class=\"python-navigation main-navigation do-not-print\" role=\"navigation\">\n",
      "                    \n",
      "                        \n",
      "<ul class=\"navigation menu\" role=\"menubar\" aria-label=\"Main Navigation\">\n",
      "  \n",
      "    \n",
      "    \n",
      "    <li id=\"about\" class=\"tier-1 element-1  \" aria-haspopup=\"true\">\n",
      "        <a href=\"/about/\" title=\"\" class=\"\">About</a>\n",
      "        \n",
      "            \n",
      "\n",
      "<ul class=\"subnav menu\" role=\"menu\" aria-hidden=\"true\">\n",
      "    \n",
      "        <li class=\"tier-2 element-1\" role=\"treeitem\"><a href=\"/about/apps/\" title=\"\">Applications</a></li>\n",
      "    \n",
      "        <li class=\"tier-2 element-2\" role=\"treeitem\"><a href=\"/about/quotes/\" title=\"\">Quotes</a></li>\n",
      "    \n",
      "        <li class=\"tier-2 element-3\" role=\"treeitem\"><a href=\"/about/gettingstarted/\" title=\"\">Getting Started</a></li>\n",
      "    \n",
      "        <li class=\"tier-2 element-4\" role=\"treeitem\"><a href=\"/about/help/\" title=\"\">Help</a></li>\n",
      "    \n",
      "</ul>\n",
      "\n",
      "        \n",
      "    </li>\n",
      "    \n",
      "    \n",
      "    \n",
      "    <li id=\"downloads\" class=\"tier-1 element-2  \" aria-haspopup=\"true\">\n",
      "        <a href=\"/downloads/\" title=\"\" class=\"\">Downloads</a>\n",
      "        \n",
      "            \n",
      "\n",
      "<ul class=\"subnav menu\" role=\"menu\" aria-hidden=\"true\">\n",
      "    \n",
      "        <li class=\"tier-2 element-1\" role=\"treeitem\"><a href=\"/downloads/\" title=\"\">All releases</a></li>\n",
      "    \n",
      "        <li class=\"tier-2 element-2\" role=\"treeitem\"><a href=\"/downloads/source/\" title=\"\">Source code</a></li>\n",
      "    \n",
      "        <li class=\"tier-2 element-3\" role=\"treeitem\"><a href=\"/downloads/windows/\" title=\"\">Windows</a></li>\n",
      "    \n",
      "        <li class=\"tier-2 element-4\" role=\"treeitem\"><a href=\"/downloads/mac-osx/\" title=\"\">Mac OS X</a></li>\n",
      "    \n",
      "        <li class=\"tier-2 element-5\" role=\"treeitem\"><a href=\"/download/other/\" title=\"\">Other Platforms</a></li>\n",
      "    \n",
      "        <li class=\"tier-2 element-6\" role=\"treeitem\"><a href=\"https://docs.python.org/3/license.html\" title=\"\">License</a></li>\n",
      "    \n",
      "        <li class=\"tier-2 element-7\" role=\"treeitem\"><a href=\"/download/alternatives\" title=\"\">Alternative Implementations</a></li>\n",
      "    \n",
      "</ul>\n",
      "\n",
      "        \n",
      "    </li>\n",
      "    \n",
      "    \n",
      "    \n",
      "    <li id=\"documentation\" class=\"tier-1 element-3  \" aria-haspopup=\"true\">\n",
      "        <a href=\"/doc/\" title=\"\" class=\"\">Documentation</a>\n",
      "        \n",
      "            \n",
      "\n",
      "<ul class=\"subnav menu\" role=\"menu\" aria-hidden=\"true\">\n",
      "    \n",
      "        <li class=\"tier-2 element-1\" role=\"treeitem\"><a href=\"/doc/\" title=\"\">Docs</a></li>\n",
      "    \n",
      "        <li class=\"tier-2 element-2\" role=\"treeitem\"><a href=\"/doc/av\" title=\"\">Audio/Visual Talks</a></li>\n",
      "    \n",
      "        <li class=\"tier-2 element-3\" role=\"treeitem\"><a href=\"https://wiki.python.org/moin/BeginnersGuide\" title=\"\">Beginner&#39;s Guide</a></li>\n",
      "    \n",
      "        <li class=\"tier-2 element-4\" role=\"treeitem\"><a href=\"https://docs.python.org/devguide/\" title=\"\">Developer&#39;s Guide</a></li>\n",
      "    \n",
      "        <li class=\"tier-2 element-5\" role=\"treeitem\"><a href=\"https://docs.python.org/faq/\" title=\"\">FAQ</a></li>\n",
      "    \n",
      "        <li class=\"tier-2 element-6\" role=\"treeitem\"><a href=\"http://wiki.python.org/moin/Languages\" title=\"\">Non-English Docs</a></li>\n",
      "    \n",
      "        <li class=\"tier-2 element-7\" role=\"treeitem\"><a href=\"http://python.org/dev/peps/\" title=\"\">PEP Index</a></li>\n",
      "    \n",
      "        <li class=\"tier-2 element-8\" role=\"treeitem\"><a href=\"https://wiki.python.org/moin/PythonBooks\" title=\"\">Python Books</a></li>\n",
      "    \n",
      "</ul>\n",
      "\n",
      "        \n",
      "    </li>\n",
      "    \n",
      "    \n",
      "    \n",
      "    <li id=\"community\" class=\"tier-1 element-4  \" aria-haspopup=\"true\">\n",
      "        <a href=\"/community/\" title=\"\" class=\"\">Community</a>\n",
      "        \n",
      "            \n",
      "\n",
      "<ul class=\"subnav menu\" role=\"menu\" aria-hidden=\"true\">\n",
      "    \n",
      "        <li class=\"tier-2 element-1\" role=\"treeitem\"><a href=\"/community/diversity/\" title=\"\">Diversity</a></li>\n",
      "    \n",
      "        <li class=\"tier-2 element-2\" role=\"treeitem\"><a href=\"/community/irc/\" title=\"\">IRC</a></li>\n",
      "    \n",
      "        <li class=\"tier-2 element-3\" role=\"treeitem\"><a href=\"/community/lists/\" title=\"\">Mailing Lists</a></li>\n",
      "    \n",
      "        <li class=\"tier-2 element-4\" role=\"treeitem\"><a href=\"/community/workshops/\" title=\"\">Python Conferences</a></li>\n",
      "    \n",
      "        <li class=\"tier-2 element-5\" role=\"treeitem\"><a href=\"/community/sigs/\" title=\"\">Special Interest Groups</a></li>\n",
      "    \n",
      "        <li class=\"tier-2 element-6\" role=\"treeitem\"><a href=\"https://wiki.python.org/moin/\" title=\"\">Python Wiki</a></li>\n",
      "    \n",
      "        <li class=\"tier-2 element-7\" role=\"treeitem\"><a href=\"/community/logos/\" title=\"\">Python Logo</a></li>\n",
      "    \n",
      "        <li class=\"tier-2 element-8\" role=\"treeitem\"><a href=\"/community/merchandise/\" title=\"\">Merchandise</a></li>\n",
      "    \n",
      "        <li class=\"tier-2 element-9\" role=\"treeitem\"><a href=\"/community/awards\" title=\"\">Community Awards</a></li>\n",
      "    \n",
      "</ul>\n",
      "\n",
      "        \n",
      "    </li>\n",
      "    \n",
      "    \n",
      "    \n",
      "    <li id=\"success-stories\" class=\"tier-1 element-5  \" aria-haspopup=\"true\">\n",
      "        <a href=\"/about/success/\" title=\"success-stories\" class=\"\">Success Stories</a>\n",
      "        \n",
      "            \n",
      "\n",
      "<ul class=\"subnav menu\" role=\"menu\" aria-hidden=\"true\">\n",
      "    \n",
      "        <li class=\"tier-2 element-1\" role=\"treeitem\"><a href=\"/about/success/#arts\" title=\"\">Arts</a></li>\n",
      "    \n",
      "        <li class=\"tier-2 element-2\" role=\"treeitem\"><a href=\"/about/success/#business\" title=\"\">Business</a></li>\n",
      "    \n",
      "        <li class=\"tier-2 element-3\" role=\"treeitem\"><a href=\"/about/success/#education\" title=\"\">Education</a></li>\n",
      "    \n",
      "        <li class=\"tier-2 element-4\" role=\"treeitem\"><a href=\"/about/success/#engineering\" title=\"\">Engineering</a></li>\n",
      "    \n",
      "        <li class=\"tier-2 element-5\" role=\"treeitem\"><a href=\"/about/success/#government\" title=\"\">Government</a></li>\n",
      "    \n",
      "        <li class=\"tier-2 element-6\" role=\"treeitem\"><a href=\"/about/success/#scientific\" title=\"\">Scientific</a></li>\n",
      "    \n",
      "        <li class=\"tier-2 element-7\" role=\"treeitem\"><a href=\"/about/success/#software-development\" title=\"\">Software Development</a></li>\n",
      "    \n",
      "</ul>\n",
      "\n",
      "        \n",
      "    </li>\n",
      "    \n",
      "    \n",
      "    \n",
      "    <li id=\"news\" class=\"tier-1 element-6  \" aria-haspopup=\"true\">\n",
      "        <a href=\"/blogs/\" title=\"News from around the Python world\" class=\"\">News</a>\n",
      "        \n",
      "            \n",
      "\n",
      "<ul class=\"subnav menu\" role=\"menu\" aria-hidden=\"true\">\n",
      "    \n",
      "        <li class=\"tier-2 element-1\" role=\"treeitem\"><a href=\"/blogs/\" title=\"Python Insider Blog Posts\">Python News</a></li>\n",
      "    \n",
      "        <li class=\"tier-2 element-2\" role=\"treeitem\"><a href=\"http://planetpython.org/\" title=\"Planet Python\">Community News</a></li>\n",
      "    \n",
      "        <li class=\"tier-2 element-3\" role=\"treeitem\"><a href=\"http://pyfound.blogspot.com/\" title=\"PSF Blog\">PSF News</a></li>\n",
      "    \n",
      "        <li class=\"tier-2 element-4\" role=\"treeitem\"><a href=\"http://pycon.blogspot.com/\" title=\"PyCon Blog\">PyCon News</a></li>\n",
      "    \n",
      "</ul>\n",
      "\n",
      "        \n",
      "    </li>\n",
      "    \n",
      "    \n",
      "    \n",
      "    <li id=\"events\" class=\"tier-1 element-7  \" aria-haspopup=\"true\">\n",
      "        <a href=\"/events/\" title=\"\" class=\"\">Events</a>\n",
      "        \n",
      "            \n",
      "\n",
      "<ul class=\"subnav menu\" role=\"menu\" aria-hidden=\"true\">\n",
      "    \n",
      "        <li class=\"tier-2 element-1\" role=\"treeitem\"><a href=\"/events/python-events/\" title=\"\">Python Events</a></li>\n",
      "    \n",
      "        <li class=\"tier-2 element-2\" role=\"treeitem\"><a href=\"/events/python-user-group/\" title=\"\">User Group Events</a></li>\n",
      "    \n",
      "        <li class=\"tier-2 element-3\" role=\"treeitem\"><a href=\"/events/python-events/past/\" title=\"\">Python Events Archive</a></li>\n",
      "    \n",
      "        <li class=\"tier-2 element-4\" role=\"treeitem\"><a href=\"/events/python-user-group/past/\" title=\"\">User Group Events Archive</a></li>\n",
      "    \n",
      "        <li class=\"tier-2 element-5\" role=\"treeitem\"><a href=\"https://wiki.python.org/moin/PythonEventsCalendar#Submitting_an_Event\" title=\"\">Submit an Event</a></li>\n",
      "    \n",
      "</ul>\n",
      "\n",
      "        \n",
      "    </li>\n",
      "    \n",
      "    \n",
      "    \n",
      "    \n",
      "  \n",
      "</ul>\n",
      "\n",
      "                    \n",
      "                </nav>\n",
      "\n",
      "                <div class=\"header-banner \"> <!-- for optional \"do-not-print\" class -->\n",
      "                    \n",
      "        <div id=\"dive-into-python\" class=\"flex-slideshow slideshow\">\n",
      "\n",
      "            <ul class=\"launch-shell menu\" id=\"launch-shell\">\n",
      "                <li>\n",
      "                    <a class=\"button prompt\" id=\"start-shell\" data-shell-container=\"#dive-into-python\" href=\"/shell/\">&gt;_\n",
      "                        <span class=\"message\">Launch Interactive Shell</span>\n",
      "                    </a>\n",
      "                </li>\n",
      "            </ul>\n",
      "\n",
      "            <ul class=\"slides menu\">\n",
      "                \n",
      "                <li>\n",
      "                    <div class=\"slide-code\"><pre><code><span class=\"comment\"># Python 3: Fibonacci series up to n</span>\r\n",
      ">>> def fib(n):\r\n",
      ">>>     a, b = 0, 1\r\n",
      ">>>     while a &lt; n:\r\n",
      ">>>         print(a, end=' ')\r\n",
      ">>>         a, b = b, a+b\r\n",
      ">>>     print()\r\n",
      ">>> fib(1000)\r\n",
      "<span class=\"output\">0 1 1 2 3 5 8 13 21 34 55 89 144 233 377 610 987</span></code></pre></div>\n",
      "                    <div class=\"slide-copy\"><h1>Functions Defined</h1>\r\n",
      "<p>The core of extensible programming is defining functions. Python allows mandatory and optional arguments, keyword arguments, and even arbitrary argument lists. <a href=\"//docs.python.org/3/tutorial/controlflow.html#defining-functions\">More about defining functions in Python&nbsp;3</a></p></div>\n",
      "                </li>\n",
      "                \n",
      "                <li>\n",
      "                    <div class=\"slide-code\"><pre><code><span class=\"comment\"># Python 3: List comprehensions</span>\r\n",
      ">>> fruits = ['Banana', 'Apple', 'Lime']\r\n",
      ">>> loud_fruits = [fruit.upper() for fruit in fruits]\r\n",
      ">>> print(loud_fruits)\r\n",
      "<span class=\"output\">['BANANA', 'APPLE', 'LIME']</span>\r\n",
      "\r\n",
      "<span class=\"comment\"># List and the enumerate function</span>\r\n",
      ">>> list(enumerate(fruits))\r\n",
      "<span class=\"output\">[(0, 'Banana'), (1, 'Apple'), (2, 'Lime')]</span></code></pre></div>\n",
      "                    <div class=\"slide-copy\"><h1>Compound Data Types</h1>\r\n",
      "<p>Lists (known as arrays in other languages) are one of the compound data types that Python understands. Lists can be indexed, sliced and manipulated with other built-in functions. <a href=\"//docs.python.org/3/tutorial/introduction.html#lists\">More about lists in Python&nbsp;3</a></p></div>\n",
      "                </li>\n",
      "                \n",
      "                <li>\n",
      "                    <div class=\"slide-code\"><pre><code><span class=\"comment\"># Python 3: Simple arithmetic</span>\r\n",
      ">>> 1 / 2\r\n",
      "<span class=\"output\">0.5</span>\r\n",
      ">>> 2 ** 3\r\n",
      "<span class=\"output\">8</span>\r\n",
      ">>> 17 / 3  <span class=\"comment\"># classic division returns a float</span>\r\n",
      "<span class=\"output\">5.666666666666667</span>\r\n",
      ">>> 17 // 3  <span class=\"comment\"># floor division</span>\r\n",
      "<span class=\"output\">5</span></code></pre></div>\n",
      "                    <div class=\"slide-copy\"><h1>Intuitive Interpretation</h1>\r\n",
      "<p>Calculations are simple with Python, and expression syntax is straightforward: the operators <code>+</code>, <code>-</code>, <code>*</code> and <code>/</code> work as expected; parentheses <code>()</code> can be used for grouping. <a href=\"http://docs.python.org/3/tutorial/introduction.html#using-python-as-a-calculator\">More about simple math functions in Python&nbsp;3</a>.</p></div>\n",
      "                </li>\n",
      "                \n",
      "                <li>\n",
      "                    <div class=\"slide-code\"><pre><code><span class=\"comment\"># Python 3: Simple output (with Unicode)</span>\r\n",
      ">>> print(\"Hello, I'm Python!\")\r\n",
      "<span class=\"output\">Hello, I'm Python!</span>\r\n",
      "\r\n",
      "<span class=\"comment\"># Input, assignment</span>\r\n",
      ">>> name = input('What is your name?\\n')\r\n",
      ">>> print('Hi, %s.' % name)\r\n",
      "<span class=\"output\">What is your name?\r\n",
      "Python\r\n",
      "Hi, Python.</span></code></pre></div>\n",
      "                    <div class=\"slide-copy\"><h1>Quick &amp; Easy to Learn</h1>\r\n",
      "<p>Experienced programmers in any other language can pick up Python very quickly, and beginners find the clean syntax and indentation structure easy to learn. <a href=\"//docs.python.org/3/tutorial/\">Whet your appetite</a> with our Python&nbsp;3 overview.</p>\r\n",
      "                   </div>\n",
      "                </li>\n",
      "                \n",
      "                <li>\n",
      "                    <div class=\"slide-code\"><pre><code><span class=\\\"comment\\\"># For loop on a list</span>\r\n",
      ">>> numbers = [2, 4, 6, 8]\r\n",
      ">>> product = 1\r\n",
      ">>> for number in numbers:\r\n",
      "...    product = product * number\r\n",
      "... \r\n",
      ">>> print('The product is:', product)\r\n",
      "<span class=\\\"output\\\">The product is: 384</span></code></pre></div>\n",
      "                    <div class=\"slide-copy\"><h1>All the Flow You&rsquo;d Expect</h1>\r\n",
      "<p>Python knows the usual control flow statements that other languages speak &mdash; <code>if</code>, <code>for</code>, <code>while</code> and <code>range</code> &mdash; with some of its own twists, of course. <a href=\"//docs.python.org/3/tutorial/controlflow.html\">More control flow tools in Python&nbsp;3</a></p></div>\n",
      "                </li>\n",
      "                \n",
      "            </ul>\n",
      "        </div>\n",
      "\n",
      "\n",
      "                </div>\n",
      "\n",
      "                \n",
      "        <div class=\"introduction\">\n",
      "            <p>Python is a programming language that lets you work quickly <span class=\"breaker\"></span>and integrate systems more effectively. <a class=\"readmore\" href=\"/doc/\">Learn More</a></p>\n",
      "        </div>\n",
      "\n",
      "\n",
      "             </div><!-- end .container -->\n",
      "        </header>\n",
      "\n",
      "        <div id=\"content\" class=\"content-wrapper\">\n",
      "            <!-- Main Content Column -->\n",
      "            <div class=\"container\">\n",
      "\n",
      "                <section class=\"main-content \" role=\"main\">\n",
      "\n",
      "                    \n",
      "                    \n",
      "\n",
      "                    \n",
      "\n",
      "                <div class=\"row\">\n",
      "\n",
      "                    <div class=\"small-widget get-started-widget\">\n",
      "                        <h2 class=\"widget-title\"><span aria-hidden=\"true\" class=\"icon-get-started\"></span>Get Started</h2>\r\n",
      "<p>Whether you're new to programming or an experienced developer, it's easy to learn and use Python.</p>\r\n",
      "<p><a href=\"/about/gettingstarted/\">Start with our Beginner&rsquo;s Guide</a></p>\n",
      "                    </div>\n",
      "\n",
      "                    <div class=\"small-widget download-widget\">\n",
      "                        <h2 class=\"widget-title\"><span aria-hidden=\"true\" class=\"icon-download\"></span>Download</h2>\n",
      "<p>Python source code and installers are available for download for all versions! Not sure which version to use? <a href=\"https://wiki.python.org/moin/Python2orPython3\">Check here</a>.</p>\n",
      "<p>Latest: <a href=\"/downloads/release/python-350/\">Python 3.5.0</a> - <a href=\"/downloads/release/python-2710/\">Python 2.7.10</a></p>\n",
      "                    </div>\n",
      "\n",
      "                    <div class=\"small-widget documentation-widget\">\n",
      "                        <h2 class=\"widget-title\"><span aria-hidden=\"true\" class=\"icon-documentation\"></span>Docs</h2>\r\n",
      "<p>Documentation for Python's standard library, along with tutorials and guides, are available online.</p>\r\n",
      "<p><a href=\"https://docs.python.org\">docs.python.org</a></p>\n",
      "                    </div>\n",
      "\n",
      "                    <div class=\"small-widget jobs-widget last\">\n",
      "                        <h2 class=\"widget-title\"><span aria-hidden=\"true\" class=\"icon-jobs\"></span>Jobs</h2>\r\n",
      "<p>Looking for work or have a Python related position that you're trying to hire for? Our <strong>relaunched community-run job board</strong> is the place to go.</p>\r\n",
      "<p><a href=\"//jobs.python.org\">jobs.python.org</a></p>\n",
      "                    </div>\n",
      "\n",
      "                </div>\n",
      "\n",
      "                <div class=\"list-widgets row\">\n",
      "\n",
      "                    <div class=\"medium-widget blog-widget\">\n",
      "                        \n",
      "                        <div class=\"shrubbery\">\n",
      "                        \n",
      "                            <h2 class=\"widget-title\"><span aria-hidden=\"true\" class=\"icon-news\"></span>Latest News</h2>\n",
      "                            <p class=\"give-me-more\"><a href=\"http://blog.python.org\" title=\"More News\">More</a></p>\n",
      "                            \n",
      "                            <ul class=\"menu\">\n",
      "                                \n",
      "                                \n",
      "                                <li>\n",
      "<time datetime=\"2015-09-13T14:28:00.000006+00:00\"><span class=\"say-no-more\">2015-</span>09-13</time>\n",
      " <a href=\"http://feedproxy.google.com/~r/PythonInsider/~3/a6zwstMbRrg/python-350-has-been-released.html\">Python 3.5.0 is now&nbsp;available for download. Python 3.5.0 is the ...</a></li>\n",
      "                                \n",
      "                                <li>\n",
      "<time datetime=\"2015-09-09T13:43:00.000002+00:00\"><span class=\"say-no-more\">2015-</span>09-09</time>\n",
      " <a href=\"http://feedproxy.google.com/~r/PythonInsider/~3/D-XkdrMEtE0/python-350-release-candidate-4-released.html\">Python 3.5.0rc4 is now&nbsp;available for download. This is a last-minute ...</a></li>\n",
      "                                \n",
      "                                <li>\n",
      "<time datetime=\"2015-09-08T01:37:00.000001+00:00\"><span class=\"say-no-more\">2015-</span>09-08</time>\n",
      " <a href=\"http://feedproxy.google.com/~r/PythonInsider/~3/wxPYPcIYdqo/python-350-release-candidate-3-released.html\">Python 3.5.0rc3 is now&nbsp;available for download.This is a preview release, ...</a></li>\n",
      "                                \n",
      "                                <li>\n",
      "<time datetime=\"2015-08-11T00:34:40.000001+00:00\"><span class=\"say-no-more\">2015-</span>08-11</time>\n",
      " <a href=\"http://feedproxy.google.com/~r/PythonInsider/~3/a1yIx-RxQW4/python-3.html\">Python 3.5.0rc1 is now&nbsp;available for download. This is a preview ...</a></li>\n",
      "                                \n",
      "                                <li>\n",
      "<time datetime=\"2015-07-05T17:22:00.000006+00:00\"><span class=\"say-no-more\">2015-</span>07-05</time>\n",
      " <a href=\"http://feedproxy.google.com/~r/PythonInsider/~3/4Fo1tWPI_P0/python-350b3-released.html\">Python 3.5.0b3 is now&nbsp;available for download. This is a preview ...</a></li>\n",
      "                                \n",
      "                            </ul>\n",
      "                        </div><!-- end .shrubbery -->\n",
      "\n",
      "                    </div>\n",
      "\n",
      "                    <div class=\"medium-widget event-widget last\">\n",
      "                        \n",
      "                        <div class=\"shrubbery\">\n",
      "                        \n",
      "                            <h2 class=\"widget-title\"><span aria-hidden=\"true\" class=\"icon-calendar\"></span>Upcoming Events</h2>\n",
      "                            <p class=\"give-me-more\"><a href=\"/events/calendars/\" title=\"More Events\">More</a></p>\n",
      "                            \n",
      "                            <ul class=\"menu\">\n",
      "                                \n",
      "                                \n",
      "                                \n",
      "                                <li>\n",
      "<time datetime=\"2015-09-16T15:00:00+00:00\"><span class=\"say-no-more\">2015-</span>09-16</time>\n",
      " <a href=\"/events/python-user-group/342/\">Meeting Python-Madrid September 2015</a></li>\n",
      "                                \n",
      "                                \n",
      "                                \n",
      "                                <li>\n",
      "<time datetime=\"2015-09-18T00:00:00+00:00\"><span class=\"say-no-more\">2015-</span>09-18</time>\n",
      " <a href=\"/events/python-events/300/\">PyCon UK 2015</a></li>\n",
      "                                \n",
      "                                \n",
      "                                \n",
      "                                <li>\n",
      "<time datetime=\"2015-09-18T00:00:00+00:00\"><span class=\"say-no-more\">2015-</span>09-18</time>\n",
      " <a href=\"/events/python-events/335/\">PyCon Russia 2015</a></li>\n",
      "                                \n",
      "                                \n",
      "                                \n",
      "                                <li>\n",
      "<time datetime=\"2015-09-19T00:00:00+00:00\"><span class=\"say-no-more\">2015-</span>09-19</time>\n",
      " <a href=\"/events/python-events/348/\">PyConChina 2015 - Beijing</a></li>\n",
      "                                \n",
      "                                \n",
      "                                \n",
      "                                <li>\n",
      "<time datetime=\"2015-09-20T00:00:00+00:00\"><span class=\"say-no-more\">2015-</span>09-20</time>\n",
      " <a href=\"/events/python-events/347/\">PyConChina 2015 - Hangzhou</a></li>\n",
      "                                \n",
      "                                \n",
      "                            </ul>\n",
      "                        </div>\n",
      "\n",
      "                    </div>\n",
      "\n",
      "                </div>\n",
      "\n",
      "                <div class=\"row\">\n",
      "\n",
      "                    <div class=\"medium-widget success-stories-widget\">\n",
      "                        \n",
      "\n",
      "                        <div class=\"shrubbery\">\n",
      "                            \n",
      "\n",
      "                            <h2 class=\"widget-title\"><span aria-hidden=\"true\" class=\"icon-success-stories\"></span>Success Stories</h2>\n",
      "                            <p class=\"give-me-more\"><a href=\"/success-stories/\" title=\"More Success Stories\">More</a></p>\n",
      "\n",
      "                            \n",
      "                            <div class=\"success-story-item\" data-weight=\"0\" id=\"success-story-2\" style=\"display: none;\">\n",
      "\n",
      "                            <blockquote>\n",
      "                                <a href=\"/success-stories/industrial-light-magic-runs-python/\">ILM runs a batch processing environment capable of modeling, rendering and compositing tens of thousands of motion picture frames per day. Thousands of machines running Linux, IRIX, Compaq Tru64, OS X, Solaris, and Windows join together to provide a production pipeline used by ~800 users daily. Speed of development is key, and Python was a faster way to code (and re-code) the programs that control this production pipeline.</a>\n",
      "                            </blockquote>\n",
      "\n",
      "                            <table cellpadding=\"0\" cellspacing=\"0\" border=\"0\" width=\"100%\" class=\"quote-from\">\n",
      "                                <tbody>\n",
      "                                    <tr>\n",
      "                                        \n",
      "                                        <td><p><a href=\"/success-stories/industrial-light-magic-runs-python/\">Industrial Light &amp; Magic Runs on Python</a> <em>by Tim Fortenberry</em></p></td>\n",
      "                                    </tr>\n",
      "                                </tbody>\n",
      "                            </table>\n",
      "                            </div>\n",
      "                            \n",
      "\n",
      "                        </div><!-- end .shrubbery -->\n",
      "\n",
      "                    </div>\n",
      "\n",
      "                    <div class=\"medium-widget applications-widget last\">\n",
      "                        <div class=\"shrubbery\">\n",
      "                            <h2 class=\"widget-title\"><span aria-hidden=\"true\" class=\"icon-python\"></span>Use Python for&hellip;</h2>\r\n",
      "<p class=\"give-me-more\"><a href=\"/about/apps\" title=\"More Applications\">More</a></p>\r\n",
      "\r\n",
      "<ul class=\"menu\">\r\n",
      "    <li><b>Web Programming</b>:\r\n",
      "        <span class=\"tag-wrapper\"><a class=\"tag\" href=\"http://www.djangoproject.com/\">Django</a>, <a class=\"tag\" href=\"http://www.pylonsproject.org/\">Pyramid</a>, <a class=\"tag\" href=\"http://bottlepy.org\">Bottle</a>, <a class=\"tag\" href=\"http://tornadoweb.org\">Tornado</a>, <a href=\"http://flask.pocoo.org/\" class=\"tag\">Flask</a>, <a class=\"tag\" href=\"http://www.web2py.com/\">web2py</a></span></li>\r\n",
      "    <li><b>GUI Development</b>:\r\n",
      "        <span class=\"tag-wrapper\"><a class=\"tag\" href=\"http://www.wxpython.org/\">wxPython</a>, <a class=\"tag\" href=\"http://wiki.python.org/moin/TkInter\">tkInter</a>, <a class=\"tag\" href=\"http://www.pygtk.org\">PyGtk</a>, <a class=\"tag\" href=\"https://wiki.gnome.org/Projects/PyGObject\">PyGObject</a>, <a class=\"tag\" href=\"http://www.riverbankcomputing.co.uk/software/pyqt/intro\">PyQt</a></span></li>\r\n",
      "    <li><b>Scientific and Numeric</b>:\r\n",
      "        <span class=\"tag-wrapper\">\r\n",
      "<a class=\"tag\" href=\"http://www.scipy.org\">SciPy</a>, <a class=\"tag\" href=\"http://pandas.pydata.org/\">Pandas</a>, <a href=\"http://ipython.org\" class=\"tag\">IPython</a></span></li>\r\n",
      "    <li><b>Software Development</b>:\r\n",
      "        <span class=\"tag-wrapper\"><a class=\"tag\" href=\"http://buildbot.net/\">Buildbot</a>, <a class=\"tag\" href=\"http://trac.edgewall.org/\">Trac</a>, <a class=\"tag\" href=\"http://roundup.sourceforge.net/\">Roundup</a></span></li>\r\n",
      "    <li><b>System Administration</b>:\r\n",
      "        <span class=\"tag-wrapper\"><a class=\"tag\" href=\"http://www.ansible.com\">Ansible</a>, <a class=\"tag\" href=\"http://www.saltstack.com\">Salt</a>, <a class=\"tag\" href=\"https://www.openstack.org\">OpenStack</a></span></li>\r\n",
      "</ul>\r\n",
      "\n",
      "                        </div><!-- end .shrubbery -->\n",
      "                    </div>\n",
      "\n",
      "                </div>\n",
      "\n",
      "                \n",
      "                <div class=\"pep-widget\">\n",
      "\n",
      "                    <h2 class=\"widget-title\">\n",
      "                        <span class=\"prompt\">&gt;&gt;&gt;</span> <a href=\"/dev/peps/\">Python Enhancement Proposals<span class=\"say-no-more\"> (PEPs)</span></a>: The future of Python<span class=\"say-no-more\"> is discussed here.</span>\n",
      "                        <a aria-hidden=\"true\" class=\"rss-link\" href=\"/dev/peps/peps.rss\"><span class=\"icon-feed\"></span> RSS</a>\n",
      "                    </h2>\n",
      "\n",
      "\n",
      "                    \n",
      "                    \n",
      "                </div>\n",
      "\n",
      "                                <div class=\"psf-widget\">\n",
      "\n",
      "                    <div class=\"python-logo\"></div>\n",
      "                    \n",
      "                    <h2 class=\"widget-title\">\r\n",
      "    <span class=\"prompt\">&gt;&gt;&gt;</span> <a href=\"/psf/\">Python Software Foundation</a>\r\n",
      "</h2>\r\n",
      "<p>The mission of the Python Software Foundation is to promote, protect, and advance the Python programming language, and to support and facilitate the growth of a diverse and international community of Python programmers. <a class=\"readmore\" href=\"/psf/\">Learn more</a> </p>\r\n",
      "<p class=\"click-these\">\r\n",
      "    <a class=\"button\" href=\"/users/membership/\">Become a Member</a>\r\n",
      "    <a class=\"button\" href=\"/psf/donations/\">Donate to the PSF</a>\r\n",
      "</p>\n",
      "                </div>\n",
      "\n",
      "\n",
      "\n",
      "\n",
      "                </section>\n",
      "\n",
      "                \n",
      "                \n",
      "\n",
      "                \n",
      "                \n",
      "\n",
      "\n",
      "            </div><!-- end .container -->\n",
      "        </div><!-- end #content .content-wrapper -->\n",
      "\n",
      "        <!-- Footer and social media list -->\n",
      "        <footer id=\"site-map\" class=\"main-footer\" role=\"contentinfo\">\n",
      "            <div class=\"main-footer-links\">\n",
      "                <div class=\"container\">\n",
      "\n",
      "                    \n",
      "                    <a id=\"back-to-top-1\" class=\"jump-link\" href=\"#python-network\"><span aria-hidden=\"true\" class=\"icon-arrow-up\"><span>&#9650;</span></span> Back to Top</a>\n",
      "\n",
      "                    \n",
      "\n",
      "<ul class=\"sitemap navigation menu do-not-print\" role=\"tree\" id=\"container\">\n",
      "    \n",
      "    <li class=\"tier-1 element-1\">\n",
      "        <a href=\"/about/\" >About</a>\n",
      "        \n",
      "            \n",
      "\n",
      "<ul class=\"subnav menu\">\n",
      "    \n",
      "        <li class=\"tier-2 element-1\" role=\"treeitem\"><a href=\"/about/apps/\" title=\"\">Applications</a></li>\n",
      "    \n",
      "        <li class=\"tier-2 element-2\" role=\"treeitem\"><a href=\"/about/quotes/\" title=\"\">Quotes</a></li>\n",
      "    \n",
      "        <li class=\"tier-2 element-3\" role=\"treeitem\"><a href=\"/about/gettingstarted/\" title=\"\">Getting Started</a></li>\n",
      "    \n",
      "        <li class=\"tier-2 element-4\" role=\"treeitem\"><a href=\"/about/help/\" title=\"\">Help</a></li>\n",
      "    \n",
      "</ul>\n",
      "\n",
      "        \n",
      "    </li>\n",
      "    \n",
      "    <li class=\"tier-1 element-2\">\n",
      "        <a href=\"/downloads/\" >Downloads</a>\n",
      "        \n",
      "            \n",
      "\n",
      "<ul class=\"subnav menu\">\n",
      "    \n",
      "        <li class=\"tier-2 element-1\" role=\"treeitem\"><a href=\"/downloads/\" title=\"\">All releases</a></li>\n",
      "    \n",
      "        <li class=\"tier-2 element-2\" role=\"treeitem\"><a href=\"/downloads/source/\" title=\"\">Source code</a></li>\n",
      "    \n",
      "        <li class=\"tier-2 element-3\" role=\"treeitem\"><a href=\"/downloads/windows/\" title=\"\">Windows</a></li>\n",
      "    \n",
      "        <li class=\"tier-2 element-4\" role=\"treeitem\"><a href=\"/downloads/mac-osx/\" title=\"\">Mac OS X</a></li>\n",
      "    \n",
      "        <li class=\"tier-2 element-5\" role=\"treeitem\"><a href=\"/download/other/\" title=\"\">Other Platforms</a></li>\n",
      "    \n",
      "        <li class=\"tier-2 element-6\" role=\"treeitem\"><a href=\"https://docs.python.org/3/license.html\" title=\"\">License</a></li>\n",
      "    \n",
      "        <li class=\"tier-2 element-7\" role=\"treeitem\"><a href=\"/download/alternatives\" title=\"\">Alternative Implementations</a></li>\n",
      "    \n",
      "</ul>\n",
      "\n",
      "        \n",
      "    </li>\n",
      "    \n",
      "    <li class=\"tier-1 element-3\">\n",
      "        <a href=\"/doc/\" >Documentation</a>\n",
      "        \n",
      "            \n",
      "\n",
      "<ul class=\"subnav menu\">\n",
      "    \n",
      "        <li class=\"tier-2 element-1\" role=\"treeitem\"><a href=\"/doc/\" title=\"\">Docs</a></li>\n",
      "    \n",
      "        <li class=\"tier-2 element-2\" role=\"treeitem\"><a href=\"/doc/av\" title=\"\">Audio/Visual Talks</a></li>\n",
      "    \n",
      "        <li class=\"tier-2 element-3\" role=\"treeitem\"><a href=\"https://wiki.python.org/moin/BeginnersGuide\" title=\"\">Beginner&#39;s Guide</a></li>\n",
      "    \n",
      "        <li class=\"tier-2 element-4\" role=\"treeitem\"><a href=\"https://docs.python.org/devguide/\" title=\"\">Developer&#39;s Guide</a></li>\n",
      "    \n",
      "        <li class=\"tier-2 element-5\" role=\"treeitem\"><a href=\"https://docs.python.org/faq/\" title=\"\">FAQ</a></li>\n",
      "    \n",
      "        <li class=\"tier-2 element-6\" role=\"treeitem\"><a href=\"http://wiki.python.org/moin/Languages\" title=\"\">Non-English Docs</a></li>\n",
      "    \n",
      "        <li class=\"tier-2 element-7\" role=\"treeitem\"><a href=\"http://python.org/dev/peps/\" title=\"\">PEP Index</a></li>\n",
      "    \n",
      "        <li class=\"tier-2 element-8\" role=\"treeitem\"><a href=\"https://wiki.python.org/moin/PythonBooks\" title=\"\">Python Books</a></li>\n",
      "    \n",
      "</ul>\n",
      "\n",
      "        \n",
      "    </li>\n",
      "    \n",
      "    <li class=\"tier-1 element-4\">\n",
      "        <a href=\"/community/\" >Community</a>\n",
      "        \n",
      "            \n",
      "\n",
      "<ul class=\"subnav menu\">\n",
      "    \n",
      "        <li class=\"tier-2 element-1\" role=\"treeitem\"><a href=\"/community/diversity/\" title=\"\">Diversity</a></li>\n",
      "    \n",
      "        <li class=\"tier-2 element-2\" role=\"treeitem\"><a href=\"/community/irc/\" title=\"\">IRC</a></li>\n",
      "    \n",
      "        <li class=\"tier-2 element-3\" role=\"treeitem\"><a href=\"/community/lists/\" title=\"\">Mailing Lists</a></li>\n",
      "    \n",
      "        <li class=\"tier-2 element-4\" role=\"treeitem\"><a href=\"/community/workshops/\" title=\"\">Python Conferences</a></li>\n",
      "    \n",
      "        <li class=\"tier-2 element-5\" role=\"treeitem\"><a href=\"/community/sigs/\" title=\"\">Special Interest Groups</a></li>\n",
      "    \n",
      "        <li class=\"tier-2 element-6\" role=\"treeitem\"><a href=\"https://wiki.python.org/moin/\" title=\"\">Python Wiki</a></li>\n",
      "    \n",
      "        <li class=\"tier-2 element-7\" role=\"treeitem\"><a href=\"/community/logos/\" title=\"\">Python Logo</a></li>\n",
      "    \n",
      "        <li class=\"tier-2 element-8\" role=\"treeitem\"><a href=\"/community/merchandise/\" title=\"\">Merchandise</a></li>\n",
      "    \n",
      "        <li class=\"tier-2 element-9\" role=\"treeitem\"><a href=\"/community/awards\" title=\"\">Community Awards</a></li>\n",
      "    \n",
      "</ul>\n",
      "\n",
      "        \n",
      "    </li>\n",
      "    \n",
      "    <li class=\"tier-1 element-5\">\n",
      "        <a href=\"/about/success/\" title=\"success-stories\">Success Stories</a>\n",
      "        \n",
      "            \n",
      "\n",
      "<ul class=\"subnav menu\">\n",
      "    \n",
      "        <li class=\"tier-2 element-1\" role=\"treeitem\"><a href=\"/about/success/#arts\" title=\"\">Arts</a></li>\n",
      "    \n",
      "        <li class=\"tier-2 element-2\" role=\"treeitem\"><a href=\"/about/success/#business\" title=\"\">Business</a></li>\n",
      "    \n",
      "        <li class=\"tier-2 element-3\" role=\"treeitem\"><a href=\"/about/success/#education\" title=\"\">Education</a></li>\n",
      "    \n",
      "        <li class=\"tier-2 element-4\" role=\"treeitem\"><a href=\"/about/success/#engineering\" title=\"\">Engineering</a></li>\n",
      "    \n",
      "        <li class=\"tier-2 element-5\" role=\"treeitem\"><a href=\"/about/success/#government\" title=\"\">Government</a></li>\n",
      "    \n",
      "        <li class=\"tier-2 element-6\" role=\"treeitem\"><a href=\"/about/success/#scientific\" title=\"\">Scientific</a></li>\n",
      "    \n",
      "        <li class=\"tier-2 element-7\" role=\"treeitem\"><a href=\"/about/success/#software-development\" title=\"\">Software Development</a></li>\n",
      "    \n",
      "</ul>\n",
      "\n",
      "        \n",
      "    </li>\n",
      "    \n",
      "    <li class=\"tier-1 element-6\">\n",
      "        <a href=\"/blogs/\" title=\"News from around the Python world\">News</a>\n",
      "        \n",
      "            \n",
      "\n",
      "<ul class=\"subnav menu\">\n",
      "    \n",
      "        <li class=\"tier-2 element-1\" role=\"treeitem\"><a href=\"/blogs/\" title=\"Python Insider Blog Posts\">Python News</a></li>\n",
      "    \n",
      "        <li class=\"tier-2 element-2\" role=\"treeitem\"><a href=\"http://planetpython.org/\" title=\"Planet Python\">Community News</a></li>\n",
      "    \n",
      "        <li class=\"tier-2 element-3\" role=\"treeitem\"><a href=\"http://pyfound.blogspot.com/\" title=\"PSF Blog\">PSF News</a></li>\n",
      "    \n",
      "        <li class=\"tier-2 element-4\" role=\"treeitem\"><a href=\"http://pycon.blogspot.com/\" title=\"PyCon Blog\">PyCon News</a></li>\n",
      "    \n",
      "</ul>\n",
      "\n",
      "        \n",
      "    </li>\n",
      "    \n",
      "    <li class=\"tier-1 element-7\">\n",
      "        <a href=\"/events/\" >Events</a>\n",
      "        \n",
      "            \n",
      "\n",
      "<ul class=\"subnav menu\">\n",
      "    \n",
      "        <li class=\"tier-2 element-1\" role=\"treeitem\"><a href=\"/events/python-events/\" title=\"\">Python Events</a></li>\n",
      "    \n",
      "        <li class=\"tier-2 element-2\" role=\"treeitem\"><a href=\"/events/python-user-group/\" title=\"\">User Group Events</a></li>\n",
      "    \n",
      "        <li class=\"tier-2 element-3\" role=\"treeitem\"><a href=\"/events/python-events/past/\" title=\"\">Python Events Archive</a></li>\n",
      "    \n",
      "        <li class=\"tier-2 element-4\" role=\"treeitem\"><a href=\"/events/python-user-group/past/\" title=\"\">User Group Events Archive</a></li>\n",
      "    \n",
      "        <li class=\"tier-2 element-5\" role=\"treeitem\"><a href=\"https://wiki.python.org/moin/PythonEventsCalendar#Submitting_an_Event\" title=\"\">Submit an Event</a></li>\n",
      "    \n",
      "</ul>\n",
      "\n",
      "        \n",
      "    </li>\n",
      "    \n",
      "    <li class=\"tier-1 element-8\">\n",
      "        <a href=\"/dev/\" >Contributing</a>\n",
      "        \n",
      "            \n",
      "\n",
      "<ul class=\"subnav menu\">\n",
      "    \n",
      "        <li class=\"tier-2 element-1\" role=\"treeitem\"><a href=\"http://docs.python.org/devguide/\" title=\"\">Developer&#39;s Guide</a></li>\n",
      "    \n",
      "        <li class=\"tier-2 element-2\" role=\"treeitem\"><a href=\"http://bugs.python.org/\" title=\"\">Issue Tracker</a></li>\n",
      "    \n",
      "        <li class=\"tier-2 element-3\" role=\"treeitem\"><a href=\"https://mail.python.org/mailman/listinfo/python-dev\" title=\"\">python-dev list</a></li>\n",
      "    \n",
      "        <li class=\"tier-2 element-4\" role=\"treeitem\"><a href=\"http://pythonmentors.com/\" title=\"\">Core Mentorship</a></li>\n",
      "    \n",
      "</ul>\n",
      "\n",
      "        \n",
      "    </li>\n",
      "    \n",
      "</ul>\n",
      "\n",
      "\n",
      "                    <a id=\"back-to-top-2\" class=\"jump-link\" href=\"#python-network\"><span aria-hidden=\"true\" class=\"icon-arrow-up\"><span>&#9650;</span></span> Back to Top</a>\n",
      "                    \n",
      "\n",
      "                </div><!-- end .container -->\n",
      "            </div> <!-- end .main-footer-links -->\n",
      "\n",
      "            <div class=\"site-base\">\n",
      "                <div class=\"container\">\n",
      "                    \n",
      "                    <ul class=\"footer-links navigation menu do-not-print\" role=\"tree\">\n",
      "                        <li class=\"tier-1 element-1\"><a href=\"/about/help/\">Help &amp; <span class=\"say-no-more\">General</span> Contact</a></li>\n",
      "                        <li class=\"tier-1 element-2\"><a href=\"/community/diversity/\">Diversity <span class=\"say-no-more\">Initiatives</span></a></li>\n",
      "                        <li class=\"tier-1 element-3\"><a href=\"https://github.com/python/pythondotorg/issues\">Submit Website Bug</a></li>\n",
      "                        <!--<li class=\"tier-1 element-3\"><a href=\"#\"><span class=\"say-no-more\">Website</span> Colophon</a></li>-->\n",
      "                    </ul>\n",
      "\n",
      "                    <div class=\"copyright\">\n",
      "                        <p><small>\n",
      "                            <span class=\"pre\">Copyright &copy;2001-2015.</span>\n",
      "                            &nbsp;<span class=\"pre\"><a href=\"/psf-landing/\">Python Software Foundation</a></span>\n",
      "                            &nbsp;<span class=\"pre\"><a href=\"/about/legal/\">Legal Statements</a></span>\n",
      "                            &nbsp;<span class=\"pre\"><a href=\"/privacy/\">Privacy Policy</a></span>\n",
      "                        </small></p>\n",
      "                    </div>\n",
      "\n",
      "                </div><!-- end .container -->\n",
      "            </div><!-- end .site-base -->\n",
      "\n",
      "        </footer>\n",
      "\n",
      "    </div><!-- end #touchnav-wrapper -->\n",
      "\n",
      "    \n",
      "    <script src=\"//ajax.googleapis.com/ajax/libs/jquery/1.8.2/jquery.min.js\"></script>\n",
      "    <script>window.jQuery || document.write('<script src=\"/static/js/libs/jquery-1.8.2.min.js\"><\\/script>')</script>\n",
      "\n",
      "    <script src=\"/static/js/libs/masonry.pkgd.min.js\"></script>\n",
      "\n",
      "    <script type=\"text/javascript\" src=\"/static/js/main-min.js\" charset=\"utf-8\"></script>\n",
      "    \n",
      "\n",
      "    <!--[if lte IE 7]>\n",
      "    <script type=\"text/javascript\" src=\"/static/js/plugins/IE8-min.js\" charset=\"utf-8\"></script>\n",
      "    \n",
      "    \n",
      "    <![endif]-->\n",
      "\n",
      "    <!--[if lte IE 8]>\n",
      "    <script type=\"text/javascript\" src=\"/static/js/plugins/getComputedStyle-min.js\" charset=\"utf-8\"></script>\n",
      "    \n",
      "    \n",
      "    <![endif]-->\n",
      "\n",
      "    \n",
      "\n",
      "    \n",
      "    \n",
      "\n",
      "</body>\n",
      "</html>\n",
      "\n"
     ]
    }
   ],
   "source": [
    "import urllib2\n",
    "url = 'http://python.org'\n",
    "response = urllib2.urlopen(url)\n",
    "html = response.read()\n",
    "\n",
    "print(html)"
   ]
  },
  {
   "cell_type": "markdown",
   "metadata": {},
   "source": [
    "This prints out the complete source HTML of the website. We have this data stored as a regular string in the `html` variable, and we can now do whatever we want with it."
   ]
  },
  {
   "cell_type": "markdown",
   "metadata": {},
   "source": [
    "***\n",
    "## Build a Weather Reporting Program!"
   ]
  },
  {
   "cell_type": "markdown",
   "metadata": {},
   "source": [
    "Let's now use the `urllib2` module to build a small program that tells you the city and the current weather when you give it the zip code of a place.\n",
    "\n",
    "For the weather data, we will use the service OpenWeatherMap.org. Type the URL http://api.openweathermap.org/data/2.5/weather?zip=61820,us into the address bar in a new tab. The website shows text about the weather information in the area of zipcode 61820 (Champaign). Let's load this information through `urllib2`."
   ]
  },
  {
   "cell_type": "code",
   "execution_count": 18,
   "metadata": {
    "collapsed": false
   },
   "outputs": [
    {
     "name": "stdout",
     "output_type": "stream",
     "text": [
      "{\"coord\":{\"lon\":-88.24,\"lat\":40.12},\"weather\":[{\"id\":800,\"main\":\"Clear\",\"description\":\"sky is clear\",\"icon\":\"01d\"}],\"base\":\"cmc stations\",\"main\":{\"temp\":292.2,\"pressure\":1020,\"humidity\":42,\"temp_min\":291.15,\"temp_max\":293.15},\"wind\":{\"speed\":3.6,\"deg\":330},\"clouds\":{\"all\":1},\"dt\":1442160931,\"sys\":{\"type\":1,\"id\":960,\"message\":0.0034,\"country\":\"US\",\"sunrise\":1442143944,\"sunset\":1442189056},\"id\":4887158,\"name\":\"Champaign\",\"cod\":200}\n",
      "\n"
     ]
    }
   ],
   "source": [
    "# urllib2 is already imported\n",
    "\n",
    "url = 'http://api.openweathermap.org/data/2.5/weather?zip=61820,us'\n",
    "response = urllib2.urlopen(url)\n",
    "weather_html = response.read()\n",
    "\n",
    "print(weather_html)"
   ]
  },
  {
   "cell_type": "markdown",
   "metadata": {},
   "source": [
    "The string that we have received is formatted in JSON, which is very similar to a Python dictionary. Let's parse this JSON data into a Python dictionary, and also pretty print it so that we can understand the structure of the data."
   ]
  },
  {
   "cell_type": "code",
   "execution_count": 19,
   "metadata": {
    "collapsed": false
   },
   "outputs": [
    {
     "name": "stdout",
     "output_type": "stream",
     "text": [
      "{\n",
      "  \"base\": \"cmc stations\",\n",
      "  \"clouds\": {\n",
      "    \"all\": 1\n",
      "  },\n",
      "  \"cod\": 200,\n",
      "  \"coord\": {\n",
      "    \"lat\": 40.12,\n",
      "    \"lon\": -88.24\n",
      "  },\n",
      "  \"dt\": 1442160931,\n",
      "  \"id\": 4887158,\n",
      "  \"main\": {\n",
      "    \"humidity\": 42,\n",
      "    \"pressure\": 1020,\n",
      "    \"temp\": 292.2,\n",
      "    \"temp_max\": 293.15,\n",
      "    \"temp_min\": 291.15\n",
      "  },\n",
      "  \"name\": \"Champaign\",\n",
      "  \"sys\": {\n",
      "    \"country\": \"US\",\n",
      "    \"id\": 960,\n",
      "    \"message\": 0.0034,\n",
      "    \"sunrise\": 1442143944,\n",
      "    \"sunset\": 1442189056,\n",
      "    \"type\": 1\n",
      "  },\n",
      "  \"weather\": [\n",
      "    {\n",
      "      \"description\": \"sky is clear\",\n",
      "      \"icon\": \"01d\",\n",
      "      \"id\": 800,\n",
      "      \"main\": \"Clear\"\n",
      "    }\n",
      "  ],\n",
      "  \"wind\": {\n",
      "    \"deg\": 330,\n",
      "    \"speed\": 3.6\n",
      "  }\n",
      "}\n"
     ]
    }
   ],
   "source": [
    "from json import JSONDecoder, dumps\n",
    "\n",
    "decoder = JSONDecoder()\n",
    "weather_data = decoder.decode(weather_html)\n",
    "pretty_weather_data = dumps(weather_data, sort_keys=True, indent=2, separators=(',', ': '))\n",
    "\n",
    "print(pretty_weather_data)"
   ]
  },
  {
   "cell_type": "markdown",
   "metadata": {},
   "source": [
    "The information we want to build our program is the `name` field and the `temp` field which is inside the `main` sub-dictionary."
   ]
  },
  {
   "cell_type": "code",
   "execution_count": 20,
   "metadata": {
    "collapsed": false
   },
   "outputs": [
    {
     "name": "stdout",
     "output_type": "stream",
     "text": [
      "We are in Champaign and it is 66.29 degrees outside!\n"
     ]
    }
   ],
   "source": [
    "city = weather_data['name']\n",
    "\n",
    "temp_kelvin = weather_data['main']['temp']\n",
    "temp_fah = 1.8 * (temp_kelvin - 273.15) + 32\n",
    "\n",
    "print(\"We are in {0} and it is {1} degrees outside!\".format(city, temp_fah))"
   ]
  },
  {
   "cell_type": "markdown",
   "metadata": {},
   "source": [
    "Let's put all of this into a nice and easy to use function."
   ]
  },
  {
   "cell_type": "code",
   "execution_count": 21,
   "metadata": {
    "collapsed": true
   },
   "outputs": [],
   "source": [
    "def tell_me_weather(zipcode):\n",
    "    # import urllib2\n",
    "    \n",
    "    url = 'http://api.openweathermap.org/data/2.5/weather?zip={0},us'.format(zipcode)\n",
    "    response = urllib2.urlopen(url)\n",
    "    weather_html = response.read()\n",
    "    \n",
    "    # from json import JSONDecoder, dumps\n",
    "\n",
    "    decoder = JSONDecoder()\n",
    "    weather_data = decoder.decode(weather_html)\n",
    "    \n",
    "    city = weather_data['name']\n",
    "\n",
    "    temp_kelvin = weather_data['main']['temp']\n",
    "    temp_fah = 1.8 * (temp_kelvin - 273.15) + 32\n",
    "\n",
    "    print(\"You are in {0} and it is {1} degrees outside!\".format(city, temp_fah))"
   ]
  },
  {
   "cell_type": "markdown",
   "metadata": {},
   "source": [
    "Now let's use our new `tell_me_weather` function!"
   ]
  },
  {
   "cell_type": "code",
   "execution_count": 22,
   "metadata": {
    "collapsed": false
   },
   "outputs": [
    {
     "name": "stdout",
     "output_type": "stream",
     "text": [
      "You are in Vernon Hills and it is 64.778 degrees outside!\n",
      "None\n"
     ]
    }
   ],
   "source": [
    "print( tell_me_weather(60061) )"
   ]
  },
  {
   "cell_type": "markdown",
   "metadata": {},
   "source": [
    "***\n",
    "## Getting started with NumPy"
   ]
  },
  {
   "cell_type": "markdown",
   "metadata": {},
   "source": [
    "NumPy (or Numerical Python), is part of a great set of free scientific computing libraries called SciPy that provide mathematical and numerical functions that work very fast. NumPy is like MATLAB, and you can use it to create very powerful arrays and matrices, and it also has various kinds of optimization algorithms and linear algebra functions that are very useful for data science and analytics"
   ]
  },
  {
   "cell_type": "code",
   "execution_count": 23,
   "metadata": {
    "collapsed": true
   },
   "outputs": [],
   "source": [
    "# Let's import numpy to use some of its functions\n",
    "import numpy as np"
   ]
  },
  {
   "cell_type": "markdown",
   "metadata": {},
   "source": [
    "The central feature of NumPy is the array object class. Arrays are similar to lists in Python, except that every element of an array must be of the same type, typically a numeric type like `float` or `int`. Arrays make operations with large amounts of numeric data very fast and are generally much more efficient than lists."
   ]
  },
  {
   "cell_type": "code",
   "execution_count": 24,
   "metadata": {
    "collapsed": false
   },
   "outputs": [
    {
     "name": "stdout",
     "output_type": "stream",
     "text": [
      "[1 4 5 8]\n"
     ]
    }
   ],
   "source": [
    "my_list = [1, 4, 5, 8]\n",
    "a = np.array(my_list)\n",
    "\n",
    "print(a)"
   ]
  },
  {
   "cell_type": "markdown",
   "metadata": {},
   "source": [
    "Array elements are accessed, sliced, and manipulated just like lists."
   ]
  },
  {
   "cell_type": "code",
   "execution_count": 25,
   "metadata": {
    "collapsed": false
   },
   "outputs": [
    {
     "name": "stdout",
     "output_type": "stream",
     "text": [
      "8\n",
      "[1 4]\n",
      "[5 4 5 8]\n"
     ]
    }
   ],
   "source": [
    "# accessing elements of the array using an index\n",
    "# return the 4th element in the array (0-indexed!)\n",
    "print(a[3])\n",
    "\n",
    "# accessing multiple continuous elements of the array, also called slicing\n",
    "print(a[:2])\n",
    "\n",
    "# modifying elements of the array\n",
    "a[0] = 5\n",
    "print(a)"
   ]
  },
  {
   "cell_type": "markdown",
   "metadata": {},
   "source": [
    "Note that the type of `a` is \"`ndarray`\""
   ]
  },
  {
   "cell_type": "code",
   "execution_count": 26,
   "metadata": {
    "collapsed": false
   },
   "outputs": [
    {
     "name": "stdout",
     "output_type": "stream",
     "text": [
      "<type 'numpy.ndarray'>\n"
     ]
    }
   ],
   "source": [
    "print(type(a))"
   ]
  },
  {
   "cell_type": "markdown",
   "metadata": {},
   "source": [
    "This means that numpy can handle multi-dimensional arrays. Let's create a 2-dimensional array"
   ]
  },
  {
   "cell_type": "code",
   "execution_count": 27,
   "metadata": {
    "collapsed": false
   },
   "outputs": [
    {
     "name": "stdout",
     "output_type": "stream",
     "text": [
      "[[1 2 3]\n",
      " [4 5 6]]\n"
     ]
    }
   ],
   "source": [
    "b = np.array([[1, 2, 3], [4, 5, 6]])\n",
    "print(b)"
   ]
  },
  {
   "cell_type": "code",
   "execution_count": 28,
   "metadata": {
    "collapsed": false
   },
   "outputs": [
    {
     "name": "stdout",
     "output_type": "stream",
     "text": [
      "2\n"
     ]
    }
   ],
   "source": [
    "# access the element is the first row, second column\n",
    "print( b[0, 1] )"
   ]
  },
  {
   "cell_type": "code",
   "execution_count": 29,
   "metadata": {
    "collapsed": false
   },
   "outputs": [
    {
     "name": "stdout",
     "output_type": "stream",
     "text": [
      "[3 6]\n"
     ]
    }
   ],
   "source": [
    "# slice the array and access only the 3rd column\n",
    "print( b[:, 2] )"
   ]
  },
  {
   "cell_type": "markdown",
   "metadata": {},
   "source": [
    "The `shape` property returns the size of each dimension of the array"
   ]
  },
  {
   "cell_type": "code",
   "execution_count": 30,
   "metadata": {
    "collapsed": false
   },
   "outputs": [
    {
     "name": "stdout",
     "output_type": "stream",
     "text": [
      "(4,)\n",
      "(2, 3)\n"
     ]
    }
   ],
   "source": [
    "print( a.shape )\n",
    "print( b.shape )"
   ]
  },
  {
   "cell_type": "markdown",
   "metadata": {},
   "source": [
    "The `in` statement can be used to check if values are present in the array"
   ]
  },
  {
   "cell_type": "code",
   "execution_count": 31,
   "metadata": {
    "collapsed": false
   },
   "outputs": [
    {
     "name": "stdout",
     "output_type": "stream",
     "text": [
      "True\n"
     ]
    }
   ],
   "source": [
    "print( 3 in b )"
   ]
  },
  {
   "cell_type": "code",
   "execution_count": 32,
   "metadata": {
    "collapsed": false
   },
   "outputs": [
    {
     "name": "stdout",
     "output_type": "stream",
     "text": [
      "False\n"
     ]
    }
   ],
   "source": [
    "print( 7 in a )"
   ]
  },
  {
   "cell_type": "markdown",
   "metadata": {},
   "source": [
    "Arrays can be reshaped to different dimension sizes"
   ]
  },
  {
   "cell_type": "code",
   "execution_count": 33,
   "metadata": {
    "collapsed": false
   },
   "outputs": [
    {
     "name": "stdout",
     "output_type": "stream",
     "text": [
      "[ 0.  1.  2.  3.  4.  5.  6.  7.  8.  9.]\n",
      "(10,)\n"
     ]
    }
   ],
   "source": [
    "a = np.array(range(10), float)\n",
    "print(a)\n",
    "print(a.shape)"
   ]
  },
  {
   "cell_type": "code",
   "execution_count": 34,
   "metadata": {
    "collapsed": false
   },
   "outputs": [
    {
     "name": "stdout",
     "output_type": "stream",
     "text": [
      "[[ 0.  1.]\n",
      " [ 2.  3.]\n",
      " [ 4.  5.]\n",
      " [ 6.  7.]\n",
      " [ 8.  9.]]\n",
      "(5, 2)\n"
     ]
    }
   ],
   "source": [
    "# reshape (10,) array to (5,2)\n",
    "a = a.reshape((5, 2))\n",
    "print(a)\n",
    "print(a.shape)"
   ]
  },
  {
   "cell_type": "markdown",
   "metadata": {},
   "source": [
    "We can create special matrices in NumPy too! Remember that they are still referred to as arrays in NumPy."
   ]
  },
  {
   "cell_type": "code",
   "execution_count": 35,
   "metadata": {
    "collapsed": false
   },
   "outputs": [
    {
     "name": "stdout",
     "output_type": "stream",
     "text": [
      "[[ 1.  0.  0.  0.]\n",
      " [ 0.  1.  0.  0.]\n",
      " [ 0.  0.  1.  0.]\n",
      " [ 0.  0.  0.  1.]]\n"
     ]
    }
   ],
   "source": [
    "# create the identity 2-dimensional array of shape (4,4)\n",
    "i = np.identity(4)\n",
    "print(i)"
   ]
  },
  {
   "cell_type": "code",
   "execution_count": 36,
   "metadata": {
    "collapsed": false
   },
   "outputs": [
    {
     "name": "stdout",
     "output_type": "stream",
     "text": [
      "[[ 1.  1.  1.]\n",
      " [ 1.  1.  1.]\n",
      " [ 1.  1.  1.]]\n"
     ]
    }
   ],
   "source": [
    "# create a (3,3) array with all ones\n",
    "o = np.ones((3,3))\n",
    "print(o)"
   ]
  },
  {
   "cell_type": "markdown",
   "metadata": {},
   "source": [
    "We can even do math operations on these arrays. All of the operations below happen element-wise. To do matrix multiplication and other matrix-specific math, we will have to use NumPy's linear algebra functions."
   ]
  },
  {
   "cell_type": "code",
   "execution_count": 37,
   "metadata": {
    "collapsed": false
   },
   "outputs": [
    {
     "name": "stdout",
     "output_type": "stream",
     "text": [
      "[ 1.  2.  3.]\n",
      "[ 5.  2.  6.]\n"
     ]
    }
   ],
   "source": [
    "a = np.array([1,2,3], float)\n",
    "b = np.array([5,2,6], float)\n",
    "print(a)\n",
    "print(b)"
   ]
  },
  {
   "cell_type": "code",
   "execution_count": 38,
   "metadata": {
    "collapsed": false
   },
   "outputs": [
    {
     "name": "stdout",
     "output_type": "stream",
     "text": [
      "[ 6.  4.  9.]\n"
     ]
    }
   ],
   "source": [
    "print( a + b )"
   ]
  },
  {
   "cell_type": "code",
   "execution_count": 39,
   "metadata": {
    "collapsed": false
   },
   "outputs": [
    {
     "name": "stdout",
     "output_type": "stream",
     "text": [
      "[-4.  0. -3.]\n"
     ]
    }
   ],
   "source": [
    "print( a - b )"
   ]
  },
  {
   "cell_type": "code",
   "execution_count": 40,
   "metadata": {
    "collapsed": false
   },
   "outputs": [
    {
     "name": "stdout",
     "output_type": "stream",
     "text": [
      "[  5.   4.  18.]\n"
     ]
    }
   ],
   "source": [
    "print( a * b )"
   ]
  },
  {
   "cell_type": "code",
   "execution_count": 41,
   "metadata": {
    "collapsed": false
   },
   "outputs": [
    {
     "name": "stdout",
     "output_type": "stream",
     "text": [
      "[ 5.  1.  2.]\n"
     ]
    }
   ],
   "source": [
    "print( b / a )"
   ]
  },
  {
   "cell_type": "code",
   "execution_count": 42,
   "metadata": {
    "collapsed": false
   },
   "outputs": [
    {
     "name": "stdout",
     "output_type": "stream",
     "text": [
      "[   5.    4.  216.]\n"
     ]
    }
   ],
   "source": [
    "print( b ** a)"
   ]
  },
  {
   "cell_type": "code",
   "execution_count": null,
   "metadata": {
    "collapsed": true
   },
   "outputs": [],
   "source": []
  }
 ],
 "metadata": {
  "kernelspec": {
   "display_name": "Python 2",
   "language": "python",
   "name": "python2"
  },
  "language_info": {
   "codemirror_mode": {
    "name": "ipython",
    "version": 2
   },
   "file_extension": ".py",
   "mimetype": "text/x-python",
   "name": "python",
   "nbconvert_exporter": "python",
   "pygments_lexer": "ipython2",
   "version": "2.7.6"
  }
 },
 "nbformat": 4,
 "nbformat_minor": 0
}
